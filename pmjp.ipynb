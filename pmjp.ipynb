{
 "cells": [
  {
   "cell_type": "code",
   "execution_count": 20,
   "metadata": {},
   "outputs": [],
   "source": [
    "import pandas as pd\n",
    "import numpy as np\n",
    "import collections\n",
    "import matplotlib.pyplot as plt"
   ]
  },
  {
   "cell_type": "markdown",
   "metadata": {},
   "source": [
    "# RELATÓRIO DOS DADOS FINANCEIROS DA PREFEITURA DE JOÃO PESSOA DE 2009 A 2018"
   ]
  },
  {
   "cell_type": "markdown",
   "metadata": {},
   "source": [
    "# DESPESAS"
   ]
  },
  {
   "cell_type": "code",
   "execution_count": 21,
   "metadata": {},
   "outputs": [],
   "source": [
    "df_despesas = pd.read_csv ('tabela_despesas_detalhamento.csv', sep='|')"
   ]
  },
  {
   "cell_type": "code",
   "execution_count": 22,
   "metadata": {},
   "outputs": [
    {
     "data": {
      "text/html": [
       "<div>\n",
       "<style scoped>\n",
       "    .dataframe tbody tr th:only-of-type {\n",
       "        vertical-align: middle;\n",
       "    }\n",
       "\n",
       "    .dataframe tbody tr th {\n",
       "        vertical-align: top;\n",
       "    }\n",
       "\n",
       "    .dataframe thead th {\n",
       "        text-align: right;\n",
       "    }\n",
       "</style>\n",
       "<table border=\"1\" class=\"dataframe\">\n",
       "  <thead>\n",
       "    <tr style=\"text-align: right;\">\n",
       "      <th></th>\n",
       "      <th>nume_empenho</th>\n",
       "      <th>ano_empenho</th>\n",
       "      <th>data_empenho</th>\n",
       "      <th>unidade_orcamentaria</th>\n",
       "      <th>favorecido</th>\n",
       "      <th>valor_empenhado</th>\n",
       "      <th>valor_liquidado</th>\n",
       "      <th>valor_pago</th>\n",
       "      <th>saldo_pagar</th>\n",
       "    </tr>\n",
       "  </thead>\n",
       "  <tbody>\n",
       "    <tr>\n",
       "      <th>0</th>\n",
       "      <td>20001</td>\n",
       "      <td>2014</td>\n",
       "      <td>2014-01-02T10:18:10.000Z</td>\n",
       "      <td>DIVISÃO DE ADMINISTRAÇÃO E FINANÇAS</td>\n",
       "      <td>LUCIANO CARTAXO PIRES DE SA</td>\n",
       "      <td>599.20</td>\n",
       "      <td>599.20</td>\n",
       "      <td>599.20</td>\n",
       "      <td>0.0</td>\n",
       "    </tr>\n",
       "    <tr>\n",
       "      <th>1</th>\n",
       "      <td>20001</td>\n",
       "      <td>2011</td>\n",
       "      <td>2011-01-03T14:19:38.000Z</td>\n",
       "      <td>RECURSOS SOB A SUPERVISÃO DA SECRETARIA DA ADM...</td>\n",
       "      <td>ENERGISA S/A</td>\n",
       "      <td>282732.77</td>\n",
       "      <td>259907.90</td>\n",
       "      <td>259907.90</td>\n",
       "      <td>0.0</td>\n",
       "    </tr>\n",
       "    <tr>\n",
       "      <th>2</th>\n",
       "      <td>20001</td>\n",
       "      <td>2017</td>\n",
       "      <td>2017-01-19T12:08:31.000Z</td>\n",
       "      <td>RECURSOS SOB A SUPERVISÃO DA SECRETARIA DA ADM...</td>\n",
       "      <td>ENERGISA S/A</td>\n",
       "      <td>52000.00</td>\n",
       "      <td>52000.00</td>\n",
       "      <td>52000.00</td>\n",
       "      <td>0.0</td>\n",
       "    </tr>\n",
       "    <tr>\n",
       "      <th>3</th>\n",
       "      <td>20001</td>\n",
       "      <td>2016</td>\n",
       "      <td>2016-01-04T09:21:59.000Z</td>\n",
       "      <td>RECURSOS SOB A SUPERVISÃO DA SECRETARIA DA ADM...</td>\n",
       "      <td>ENERGISA S/A</td>\n",
       "      <td>310180.76</td>\n",
       "      <td>310180.76</td>\n",
       "      <td>310180.76</td>\n",
       "      <td>0.0</td>\n",
       "    </tr>\n",
       "    <tr>\n",
       "      <th>4</th>\n",
       "      <td>20001</td>\n",
       "      <td>2013</td>\n",
       "      <td>2013-01-02T11:27:57.000Z</td>\n",
       "      <td>RECURSOS SOB A SUPERVISÃO DA SECRETARIA DA ADM...</td>\n",
       "      <td>ASSOCIACAO DAS EMPRESAS DE TRANSPORTES COLETIV...</td>\n",
       "      <td>105424.64</td>\n",
       "      <td>105424.64</td>\n",
       "      <td>105424.64</td>\n",
       "      <td>0.0</td>\n",
       "    </tr>\n",
       "  </tbody>\n",
       "</table>\n",
       "</div>"
      ],
      "text/plain": [
       "   nume_empenho  ano_empenho              data_empenho  \\\n",
       "0         20001         2014  2014-01-02T10:18:10.000Z   \n",
       "1         20001         2011  2011-01-03T14:19:38.000Z   \n",
       "2         20001         2017  2017-01-19T12:08:31.000Z   \n",
       "3         20001         2016  2016-01-04T09:21:59.000Z   \n",
       "4         20001         2013  2013-01-02T11:27:57.000Z   \n",
       "\n",
       "                                unidade_orcamentaria  \\\n",
       "0                DIVISÃO DE ADMINISTRAÇÃO E FINANÇAS   \n",
       "1  RECURSOS SOB A SUPERVISÃO DA SECRETARIA DA ADM...   \n",
       "2  RECURSOS SOB A SUPERVISÃO DA SECRETARIA DA ADM...   \n",
       "3  RECURSOS SOB A SUPERVISÃO DA SECRETARIA DA ADM...   \n",
       "4  RECURSOS SOB A SUPERVISÃO DA SECRETARIA DA ADM...   \n",
       "\n",
       "                                          favorecido  valor_empenhado  \\\n",
       "0                        LUCIANO CARTAXO PIRES DE SA           599.20   \n",
       "1                                       ENERGISA S/A        282732.77   \n",
       "2                                       ENERGISA S/A         52000.00   \n",
       "3                                       ENERGISA S/A        310180.76   \n",
       "4  ASSOCIACAO DAS EMPRESAS DE TRANSPORTES COLETIV...        105424.64   \n",
       "\n",
       "   valor_liquidado  valor_pago  saldo_pagar  \n",
       "0           599.20      599.20          0.0  \n",
       "1        259907.90   259907.90          0.0  \n",
       "2         52000.00    52000.00          0.0  \n",
       "3        310180.76   310180.76          0.0  \n",
       "4        105424.64   105424.64          0.0  "
      ]
     },
     "execution_count": 22,
     "metadata": {},
     "output_type": "execute_result"
    }
   ],
   "source": [
    "df_despesas.head()"
   ]
  },
  {
   "cell_type": "code",
   "execution_count": 23,
   "metadata": {},
   "outputs": [
    {
     "data": {
      "text/html": [
       "<div>\n",
       "<style scoped>\n",
       "    .dataframe tbody tr th:only-of-type {\n",
       "        vertical-align: middle;\n",
       "    }\n",
       "\n",
       "    .dataframe tbody tr th {\n",
       "        vertical-align: top;\n",
       "    }\n",
       "\n",
       "    .dataframe thead th {\n",
       "        text-align: right;\n",
       "    }\n",
       "</style>\n",
       "<table border=\"1\" class=\"dataframe\">\n",
       "  <thead>\n",
       "    <tr style=\"text-align: right;\">\n",
       "      <th></th>\n",
       "      <th>nume_empenho</th>\n",
       "      <th>ano_empenho</th>\n",
       "      <th>valor_empenhado</th>\n",
       "      <th>valor_liquidado</th>\n",
       "      <th>valor_pago</th>\n",
       "      <th>saldo_pagar</th>\n",
       "    </tr>\n",
       "  </thead>\n",
       "  <tbody>\n",
       "    <tr>\n",
       "      <th>count</th>\n",
       "      <td>252659.000000</td>\n",
       "      <td>252659.000000</td>\n",
       "      <td>2.526590e+05</td>\n",
       "      <td>2.526590e+05</td>\n",
       "      <td>2.526590e+05</td>\n",
       "      <td>2.526590e+05</td>\n",
       "    </tr>\n",
       "    <tr>\n",
       "      <th>mean</th>\n",
       "      <td>258307.046909</td>\n",
       "      <td>2012.976138</td>\n",
       "      <td>6.131776e+04</td>\n",
       "      <td>5.736811e+04</td>\n",
       "      <td>5.551976e+04</td>\n",
       "      <td>1.848344e+03</td>\n",
       "    </tr>\n",
       "    <tr>\n",
       "      <th>std</th>\n",
       "      <td>158213.602357</td>\n",
       "      <td>2.838435</td>\n",
       "      <td>4.253522e+05</td>\n",
       "      <td>4.122032e+05</td>\n",
       "      <td>4.062024e+05</td>\n",
       "      <td>3.850735e+04</td>\n",
       "    </tr>\n",
       "    <tr>\n",
       "      <th>min</th>\n",
       "      <td>20001.000000</td>\n",
       "      <td>2009.000000</td>\n",
       "      <td>0.000000e+00</td>\n",
       "      <td>-7.053064e+05</td>\n",
       "      <td>0.000000e+00</td>\n",
       "      <td>-1.410613e+06</td>\n",
       "    </tr>\n",
       "    <tr>\n",
       "      <th>25%</th>\n",
       "      <td>130019.000000</td>\n",
       "      <td>2011.000000</td>\n",
       "      <td>4.375100e+02</td>\n",
       "      <td>3.298900e+02</td>\n",
       "      <td>2.600000e+02</td>\n",
       "      <td>0.000000e+00</td>\n",
       "    </tr>\n",
       "    <tr>\n",
       "      <th>50%</th>\n",
       "      <td>220693.000000</td>\n",
       "      <td>2013.000000</td>\n",
       "      <td>1.500000e+03</td>\n",
       "      <td>1.200000e+03</td>\n",
       "      <td>1.200000e+03</td>\n",
       "      <td>0.000000e+00</td>\n",
       "    </tr>\n",
       "    <tr>\n",
       "      <th>75%</th>\n",
       "      <td>392245.000000</td>\n",
       "      <td>2015.000000</td>\n",
       "      <td>1.061658e+04</td>\n",
       "      <td>8.564320e+03</td>\n",
       "      <td>7.772345e+03</td>\n",
       "      <td>0.000000e+00</td>\n",
       "    </tr>\n",
       "    <tr>\n",
       "      <th>max</th>\n",
       "      <td>660184.000000</td>\n",
       "      <td>2018.000000</td>\n",
       "      <td>4.265331e+07</td>\n",
       "      <td>4.177176e+07</td>\n",
       "      <td>4.025794e+07</td>\n",
       "      <td>5.496928e+06</td>\n",
       "    </tr>\n",
       "  </tbody>\n",
       "</table>\n",
       "</div>"
      ],
      "text/plain": [
       "        nume_empenho    ano_empenho  valor_empenhado  valor_liquidado  \\\n",
       "count  252659.000000  252659.000000     2.526590e+05     2.526590e+05   \n",
       "mean   258307.046909    2012.976138     6.131776e+04     5.736811e+04   \n",
       "std    158213.602357       2.838435     4.253522e+05     4.122032e+05   \n",
       "min     20001.000000    2009.000000     0.000000e+00    -7.053064e+05   \n",
       "25%    130019.000000    2011.000000     4.375100e+02     3.298900e+02   \n",
       "50%    220693.000000    2013.000000     1.500000e+03     1.200000e+03   \n",
       "75%    392245.000000    2015.000000     1.061658e+04     8.564320e+03   \n",
       "max    660184.000000    2018.000000     4.265331e+07     4.177176e+07   \n",
       "\n",
       "         valor_pago   saldo_pagar  \n",
       "count  2.526590e+05  2.526590e+05  \n",
       "mean   5.551976e+04  1.848344e+03  \n",
       "std    4.062024e+05  3.850735e+04  \n",
       "min    0.000000e+00 -1.410613e+06  \n",
       "25%    2.600000e+02  0.000000e+00  \n",
       "50%    1.200000e+03  0.000000e+00  \n",
       "75%    7.772345e+03  0.000000e+00  \n",
       "max    4.025794e+07  5.496928e+06  "
      ]
     },
     "execution_count": 23,
     "metadata": {},
     "output_type": "execute_result"
    }
   ],
   "source": [
    "df_despesas.describe()"
   ]
  },
  {
   "cell_type": "code",
   "execution_count": 24,
   "metadata": {},
   "outputs": [],
   "source": [
    "dez_mais = df_despesas.nlargest(10,'valor_pago')"
   ]
  },
  {
   "cell_type": "code",
   "execution_count": 25,
   "metadata": {},
   "outputs": [
    {
     "data": {
      "text/html": [
       "<div>\n",
       "<style scoped>\n",
       "    .dataframe tbody tr th:only-of-type {\n",
       "        vertical-align: middle;\n",
       "    }\n",
       "\n",
       "    .dataframe tbody tr th {\n",
       "        vertical-align: top;\n",
       "    }\n",
       "\n",
       "    .dataframe thead th {\n",
       "        text-align: right;\n",
       "    }\n",
       "</style>\n",
       "<table border=\"1\" class=\"dataframe\">\n",
       "  <thead>\n",
       "    <tr style=\"text-align: right;\">\n",
       "      <th></th>\n",
       "      <th>nume_empenho</th>\n",
       "      <th>ano_empenho</th>\n",
       "      <th>data_empenho</th>\n",
       "      <th>unidade_orcamentaria</th>\n",
       "      <th>favorecido</th>\n",
       "      <th>valor_empenhado</th>\n",
       "      <th>valor_liquidado</th>\n",
       "      <th>valor_pago</th>\n",
       "      <th>saldo_pagar</th>\n",
       "    </tr>\n",
       "  </thead>\n",
       "  <tbody>\n",
       "    <tr>\n",
       "      <th>167821</th>\n",
       "      <td>390078</td>\n",
       "      <td>2015</td>\n",
       "      <td>2015-01-02T16:06:32.000Z</td>\n",
       "      <td>FUNDO MUNICIPAL DE SAÚDE</td>\n",
       "      <td>HOSPITAL NAPOLEÃO LAUREANO</td>\n",
       "      <td>42653309.48</td>\n",
       "      <td>41771762.19</td>\n",
       "      <td>40257938.52</td>\n",
       "      <td>1513823.67</td>\n",
       "    </tr>\n",
       "    <tr>\n",
       "      <th>167867</th>\n",
       "      <td>390083</td>\n",
       "      <td>2014</td>\n",
       "      <td>2014-01-03T13:22:24.000Z</td>\n",
       "      <td>FUNDO MUNICIPAL DE SAÚDE</td>\n",
       "      <td>HOSPITAL NAPOLEÃO LAUREANO</td>\n",
       "      <td>19624353.42</td>\n",
       "      <td>19624353.42</td>\n",
       "      <td>19624353.42</td>\n",
       "      <td>0.00</td>\n",
       "    </tr>\n",
       "    <tr>\n",
       "      <th>169112</th>\n",
       "      <td>390207</td>\n",
       "      <td>2012</td>\n",
       "      <td>2012-01-04T15:33:12.000Z</td>\n",
       "      <td>FUNDO MUNICIPAL DE SAÚDE</td>\n",
       "      <td>HOSPITAL NAPOLEÃO LAUREANO</td>\n",
       "      <td>19200000.00</td>\n",
       "      <td>19200000.00</td>\n",
       "      <td>19200000.00</td>\n",
       "      <td>0.00</td>\n",
       "    </tr>\n",
       "    <tr>\n",
       "      <th>172555</th>\n",
       "      <td>390551</td>\n",
       "      <td>2016</td>\n",
       "      <td>2016-02-02T11:29:10.000Z</td>\n",
       "      <td>FUNDO MUNICIPAL DE SAÚDE</td>\n",
       "      <td>HOSPITAL NAPOLEÃO LAUREANO</td>\n",
       "      <td>17486924.86</td>\n",
       "      <td>17486924.86</td>\n",
       "      <td>17486924.86</td>\n",
       "      <td>0.00</td>\n",
       "    </tr>\n",
       "    <tr>\n",
       "      <th>188128</th>\n",
       "      <td>392109</td>\n",
       "      <td>2014</td>\n",
       "      <td>2014-06-30T09:36:43.000Z</td>\n",
       "      <td>FUNDO MUNICIPAL DE SAÚDE</td>\n",
       "      <td>HOSPITAL NAPOLEÃO LAUREANO</td>\n",
       "      <td>16593951.94</td>\n",
       "      <td>16593951.94</td>\n",
       "      <td>16251804.34</td>\n",
       "      <td>342147.60</td>\n",
       "    </tr>\n",
       "  </tbody>\n",
       "</table>\n",
       "</div>"
      ],
      "text/plain": [
       "        nume_empenho  ano_empenho              data_empenho  \\\n",
       "167821        390078         2015  2015-01-02T16:06:32.000Z   \n",
       "167867        390083         2014  2014-01-03T13:22:24.000Z   \n",
       "169112        390207         2012  2012-01-04T15:33:12.000Z   \n",
       "172555        390551         2016  2016-02-02T11:29:10.000Z   \n",
       "188128        392109         2014  2014-06-30T09:36:43.000Z   \n",
       "\n",
       "            unidade_orcamentaria                  favorecido  valor_empenhado  \\\n",
       "167821  FUNDO MUNICIPAL DE SAÚDE  HOSPITAL NAPOLEÃO LAUREANO      42653309.48   \n",
       "167867  FUNDO MUNICIPAL DE SAÚDE  HOSPITAL NAPOLEÃO LAUREANO      19624353.42   \n",
       "169112  FUNDO MUNICIPAL DE SAÚDE  HOSPITAL NAPOLEÃO LAUREANO      19200000.00   \n",
       "172555  FUNDO MUNICIPAL DE SAÚDE  HOSPITAL NAPOLEÃO LAUREANO      17486924.86   \n",
       "188128  FUNDO MUNICIPAL DE SAÚDE  HOSPITAL NAPOLEÃO LAUREANO      16593951.94   \n",
       "\n",
       "        valor_liquidado   valor_pago  saldo_pagar  \n",
       "167821      41771762.19  40257938.52   1513823.67  \n",
       "167867      19624353.42  19624353.42         0.00  \n",
       "169112      19200000.00  19200000.00         0.00  \n",
       "172555      17486924.86  17486924.86         0.00  \n",
       "188128      16593951.94  16251804.34    342147.60  "
      ]
     },
     "execution_count": 25,
     "metadata": {},
     "output_type": "execute_result"
    }
   ],
   "source": [
    "dez_mais.head()"
   ]
  },
  {
   "cell_type": "code",
   "execution_count": 26,
   "metadata": {},
   "outputs": [],
   "source": [
    "valores = df_despesas['valor_pago']"
   ]
  },
  {
   "cell_type": "code",
   "execution_count": 27,
   "metadata": {},
   "outputs": [],
   "source": [
    "data = df_despesas['data_empenho']"
   ]
  },
  {
   "cell_type": "code",
   "execution_count": 28,
   "metadata": {},
   "outputs": [
    {
     "data": {
      "image/png": "[encoded data removed]",
      "text/plain": [
       "<Figure size 1080x648 with 1 Axes>"
      ]
     },
     "metadata": {
      "needs_background": "light"
     },
     "output_type": "display_data"
    }
   ],
   "source": [
    "plt.figure(1, figsize=(15, 9))\n",
    "ind = np.arange(len(data))\n",
    "plt.scatter (ind, valores)\n",
    "plt.ylabel('bilhões')\n",
    "plt.title('valores pagos de 2009 à 2018')\n",
    "plt.grid(True)\n",
    "plt.savefig('dispersao_receita.png', transparent=True)\n",
    "plt.show()"
   ]
  },
  {
   "cell_type": "code",
   "execution_count": 29,
   "metadata": {},
   "outputs": [],
   "source": [
    "ano_2009 = df_despesas.loc[df_despesas['ano_empenho']==2009]"
   ]
  },
  {
   "cell_type": "code",
   "execution_count": 30,
   "metadata": {},
   "outputs": [],
   "source": [
    "ano_2010 = df_despesas.loc[df_despesas['ano_empenho']==2010]"
   ]
  },
  {
   "cell_type": "code",
   "execution_count": 31,
   "metadata": {},
   "outputs": [],
   "source": [
    "ano_2011 = df_despesas.loc[df_despesas['ano_empenho']==2011]"
   ]
  },
  {
   "cell_type": "code",
   "execution_count": 32,
   "metadata": {},
   "outputs": [],
   "source": [
    "ano_2012 = df_despesas.loc[df_despesas['ano_empenho']==2012]"
   ]
  },
  {
   "cell_type": "code",
   "execution_count": 33,
   "metadata": {},
   "outputs": [],
   "source": [
    "ano_2013 = df_despesas.loc[df_despesas['ano_empenho']==2013]"
   ]
  },
  {
   "cell_type": "code",
   "execution_count": 34,
   "metadata": {},
   "outputs": [],
   "source": [
    "ano_2014 = df_despesas.loc[df_despesas['ano_empenho']==2014]"
   ]
  },
  {
   "cell_type": "code",
   "execution_count": 35,
   "metadata": {},
   "outputs": [],
   "source": [
    "ano_2015 = df_despesas.loc[df_despesas['ano_empenho']==2015]"
   ]
  },
  {
   "cell_type": "code",
   "execution_count": 36,
   "metadata": {},
   "outputs": [],
   "source": [
    "ano_2016 = df_despesas.loc[df_despesas['ano_empenho']==2016]"
   ]
  },
  {
   "cell_type": "code",
   "execution_count": 37,
   "metadata": {},
   "outputs": [],
   "source": [
    "ano_2017 = df_despesas.loc[df_despesas['ano_empenho']==2017]"
   ]
  },
  {
   "cell_type": "code",
   "execution_count": 38,
   "metadata": {},
   "outputs": [],
   "source": [
    "ano_2018 = df_despesas.loc[df_despesas['ano_empenho']==2018]"
   ]
  },
  {
   "cell_type": "code",
   "execution_count": 39,
   "metadata": {},
   "outputs": [],
   "source": [
    "ano_2009_total = ano_2009['valor_pago'].sum()\n",
    "ano_2010_total = ano_2010['valor_pago'].sum()\n",
    "ano_2011_total = ano_2011['valor_pago'].sum()\n",
    "ano_2012_total = ano_2012['valor_pago'].sum()\n",
    "ano_2013_total = ano_2013['valor_pago'].sum()\n",
    "ano_2014_total = ano_2014['valor_pago'].sum()\n",
    "ano_2015_total = ano_2015['valor_pago'].sum()\n",
    "ano_2016_total = ano_2016['valor_pago'].sum()\n",
    "ano_2017_total = ano_2017['valor_pago'].sum()\n",
    "ano_2018_total = ano_2018['valor_pago'].sum()"
   ]
  },
  {
   "cell_type": "code",
   "execution_count": 40,
   "metadata": {},
   "outputs": [],
   "source": [
    "grafico_despesa = [ano_2009_total, ano_2010_total, ano_2011_total, ano_2012_total, ano_2013_total, ano_2014_total, ano_2015_total, ano_2016_total, ano_2017_total, ano_2018_total]"
   ]
  },
  {
   "cell_type": "code",
   "execution_count": 41,
   "metadata": {},
   "outputs": [],
   "source": [
    "anos = ['2009', '2010', '2011', '2012','2013', '2014', '2015', '2016', '2017', '2018']"
   ]
  },
  {
   "cell_type": "code",
   "execution_count": 42,
   "metadata": {},
   "outputs": [
    {
     "data": {
      "image/png": "[encoded data removed]",
      "text/plain": [
       "<Figure size 1080x648 with 1 Axes>"
      ]
     },
     "metadata": {
      "needs_background": "light"
     },
     "output_type": "display_data"
    }
   ],
   "source": [
    "plt.figure(1, figsize=(15, 9))\n",
    "plt.plot (anos, grafico_despesa, label='Despesas')\n",
    "plt.ylabel('Bilhões')\n",
    "plt.title('despesa por anos')\n",
    "plt.grid(True)\n",
    "plt.legend()\n",
    "plt.savefig('despesa.png', transparent=True)\n",
    "plt.show()"
   ]
  },
  {
   "cell_type": "markdown",
   "metadata": {},
   "source": [
    "# RECEITA"
   ]
  },
  {
   "cell_type": "code",
   "execution_count": 43,
   "metadata": {},
   "outputs": [],
   "source": [
    "df_2009 = pd.read_excel ('tabela_download2009.xlsx')"
   ]
  },
  {
   "cell_type": "code",
   "execution_count": 44,
   "metadata": {},
   "outputs": [],
   "source": [
    "df_2010 = pd.read_excel ('tabela_download2010.xlsx')"
   ]
  },
  {
   "cell_type": "code",
   "execution_count": 45,
   "metadata": {},
   "outputs": [],
   "source": [
    "df_2011 = pd.read_excel ('tabela_download2011.xlsx')"
   ]
  },
  {
   "cell_type": "code",
   "execution_count": 46,
   "metadata": {},
   "outputs": [],
   "source": [
    "df_2012 = pd.read_excel ('tabela_download2012.xlsx')"
   ]
  },
  {
   "cell_type": "code",
   "execution_count": 47,
   "metadata": {},
   "outputs": [],
   "source": [
    "df_2013 = pd.read_excel ('tabela_download2013.xlsx')"
   ]
  },
  {
   "cell_type": "code",
   "execution_count": 48,
   "metadata": {},
   "outputs": [],
   "source": [
    "df_2014 = pd.read_excel ('tabela_download2014.xlsx')"
   ]
  },
  {
   "cell_type": "code",
   "execution_count": 49,
   "metadata": {},
   "outputs": [],
   "source": [
    "df_2015 = pd.read_excel ('tabela_download2015.xlsx')"
   ]
  },
  {
   "cell_type": "code",
   "execution_count": 50,
   "metadata": {},
   "outputs": [],
   "source": [
    "df_2016 = pd.read_excel ('tabela_download2016.xlsx')"
   ]
  },
  {
   "cell_type": "code",
   "execution_count": 51,
   "metadata": {},
   "outputs": [],
   "source": [
    "df_2017 = pd.read_excel ('tabela_download2017.xlsx')"
   ]
  },
  {
   "cell_type": "code",
   "execution_count": 52,
   "metadata": {},
   "outputs": [],
   "source": [
    "df_2018 = pd.read_excel ('tabela_download2018.xlsx')"
   ]
  },
  {
   "cell_type": "code",
   "execution_count": 53,
   "metadata": {},
   "outputs": [
    {
     "data": {
      "text/html": [
       "<div>\n",
       "<style scoped>\n",
       "    .dataframe tbody tr th:only-of-type {\n",
       "        vertical-align: middle;\n",
       "    }\n",
       "\n",
       "    .dataframe tbody tr th {\n",
       "        vertical-align: top;\n",
       "    }\n",
       "\n",
       "    .dataframe thead th {\n",
       "        text-align: right;\n",
       "    }\n",
       "</style>\n",
       "<table border=\"1\" class=\"dataframe\">\n",
       "  <thead>\n",
       "    <tr style=\"text-align: right;\">\n",
       "      <th></th>\n",
       "      <th>mes_ano_referencia</th>\n",
       "      <th>codigo_recebimento</th>\n",
       "      <th>descricao_receita</th>\n",
       "      <th>fonte_recurso</th>\n",
       "      <th>nome_entidade</th>\n",
       "      <th>valor</th>\n",
       "    </tr>\n",
       "  </thead>\n",
       "  <tbody>\n",
       "    <tr>\n",
       "      <th>0</th>\n",
       "      <td>1/2018</td>\n",
       "      <td>1310010101</td>\n",
       "      <td>ALUGUÉIS E ARRENDAMENTOS - PRINCIPAL</td>\n",
       "      <td>RECURSOS ORDINÁRIOS</td>\n",
       "      <td>PMJP</td>\n",
       "      <td>3078.31</td>\n",
       "    </tr>\n",
       "    <tr>\n",
       "      <th>1</th>\n",
       "      <td>1/2018</td>\n",
       "      <td>1321000101</td>\n",
       "      <td>REMUNERAÇÃO DE DEPÓSITOS BANCÁRIOS - PRINCIPAL</td>\n",
       "      <td>RECURSOS ORDINÁRIOS</td>\n",
       "      <td>PMJP</td>\n",
       "      <td>273179.99</td>\n",
       "    </tr>\n",
       "    <tr>\n",
       "      <th>2</th>\n",
       "      <td>1/2018</td>\n",
       "      <td>1325010200</td>\n",
       "      <td>REMUNERAÇÃO DE DEPÓSITOS BANCÁRIOS - RECEITA D...</td>\n",
       "      <td>RECURSOS DO FUNDEB</td>\n",
       "      <td>PMJP</td>\n",
       "      <td>90548.24</td>\n",
       "    </tr>\n",
       "    <tr>\n",
       "      <th>3</th>\n",
       "      <td>1/2018</td>\n",
       "      <td>1325019900</td>\n",
       "      <td>RECEITA DE REMUNERAÇÃO DE DEPÓSITOS BANCÁRIOS ...</td>\n",
       "      <td>TRANSF DE CONVENIO-REC DA UNIAO</td>\n",
       "      <td>PMJP</td>\n",
       "      <td>244018.68</td>\n",
       "    </tr>\n",
       "    <tr>\n",
       "      <th>4</th>\n",
       "      <td>1/2018</td>\n",
       "      <td>1718010201</td>\n",
       "      <td>COTA-PARTE DO FUNDO DE PARTICIPAÇÃO DOS MUNICÍ...</td>\n",
       "      <td>RECURSOS ORDINÁRIOS</td>\n",
       "      <td>PMJP</td>\n",
       "      <td>27847973.79</td>\n",
       "    </tr>\n",
       "  </tbody>\n",
       "</table>\n",
       "</div>"
      ],
      "text/plain": [
       "  mes_ano_referencia  codigo_recebimento  \\\n",
       "0             1/2018          1310010101   \n",
       "1             1/2018          1321000101   \n",
       "2             1/2018          1325010200   \n",
       "3             1/2018          1325019900   \n",
       "4             1/2018          1718010201   \n",
       "\n",
       "                                   descricao_receita  \\\n",
       "0               ALUGUÉIS E ARRENDAMENTOS - PRINCIPAL   \n",
       "1     REMUNERAÇÃO DE DEPÓSITOS BANCÁRIOS - PRINCIPAL   \n",
       "2  REMUNERAÇÃO DE DEPÓSITOS BANCÁRIOS - RECEITA D...   \n",
       "3  RECEITA DE REMUNERAÇÃO DE DEPÓSITOS BANCÁRIOS ...   \n",
       "4  COTA-PARTE DO FUNDO DE PARTICIPAÇÃO DOS MUNICÍ...   \n",
       "\n",
       "                     fonte_recurso nome_entidade        valor  \n",
       "0              RECURSOS ORDINÁRIOS          PMJP      3078.31  \n",
       "1              RECURSOS ORDINÁRIOS          PMJP    273179.99  \n",
       "2               RECURSOS DO FUNDEB          PMJP     90548.24  \n",
       "3  TRANSF DE CONVENIO-REC DA UNIAO          PMJP    244018.68  \n",
       "4              RECURSOS ORDINÁRIOS          PMJP  27847973.79  "
      ]
     },
     "execution_count": 53,
     "metadata": {},
     "output_type": "execute_result"
    }
   ],
   "source": [
    "df_2018.head()"
   ]
  },
  {
   "cell_type": "code",
   "execution_count": 54,
   "metadata": {},
   "outputs": [],
   "source": [
    "df_2009_total = df_2009['valor'].sum()\n",
    "df_2010_total = df_2010['valor'].sum()\n",
    "df_2011_total = df_2011['valor'].sum()\n",
    "df_2012_total = df_2012['valor'].sum()\n",
    "df_2013_total = df_2013['valor'].sum()\n",
    "df_2014_total = df_2014['valor'].sum()\n",
    "df_2015_total = df_2015['valor'].sum()\n",
    "df_2016_total = df_2016['valor'].sum()\n",
    "df_2017_total = df_2017['valor'].sum()\n",
    "df_2018_total = df_2018['valor'].sum()"
   ]
  },
  {
   "cell_type": "code",
   "execution_count": 55,
   "metadata": {},
   "outputs": [],
   "source": [
    "df_2009_media = df_2009['valor'].mean()\n",
    "df_2010_media = df_2010['valor'].mean()\n",
    "df_2011_media = df_2011['valor'].mean()\n",
    "df_2012_media = df_2012['valor'].mean()\n",
    "df_2013_media = df_2013['valor'].mean()\n",
    "df_2014_media = df_2014['valor'].mean()\n",
    "df_2015_media = df_2015['valor'].mean()\n",
    "df_2016_media = df_2016['valor'].mean()\n",
    "df_2017_media = df_2017['valor'].mean()\n",
    "df_2018_media = df_2018['valor'].mean()"
   ]
  },
  {
   "cell_type": "code",
   "execution_count": 56,
   "metadata": {},
   "outputs": [],
   "source": [
    "receita_total =  [df_2009_total, df_2010_total, df_2011_total, df_2012_total, df_2013_total, df_2014_total, df_2015_total, df_2016_total,\n",
    "       df_2017_total, df_2018_total]"
   ]
  },
  {
   "cell_type": "code",
   "execution_count": 57,
   "metadata": {},
   "outputs": [],
   "source": [
    "receita_media = [df_2009_media, df_2010_media, df_2011_media, df_2012_media, df_2013_media, df_2014_media, df_2015_media, df_2016_media, df_2017_media, df_2018_media]"
   ]
  },
  {
   "cell_type": "code",
   "execution_count": 58,
   "metadata": {},
   "outputs": [
    {
     "data": {
      "image/png": "[encoded data removed]",
      "text/plain": [
       "<Figure size 1080x648 with 1 Axes>"
      ]
     },
     "metadata": {
      "needs_background": "light"
     },
     "output_type": "display_data"
    }
   ],
   "source": [
    "plt.figure(1, figsize=(15, 9))\n",
    "plt.plot (anos, receita_total, label='Receita')\n",
    "plt.ylabel('Bilhões')\n",
    "plt.title('receita por anos')\n",
    "plt.grid(True)\n",
    "plt.legend()\n",
    "plt.savefig('receita.png', transparent=True)\n",
    "plt.show()"
   ]
  },
  {
   "cell_type": "code",
   "execution_count": 59,
   "metadata": {},
   "outputs": [
    {
     "data": {
      "image/png": "[encoded data removed]",
      "text/plain": [
       "<Figure size 1080x648 with 1 Axes>"
      ]
     },
     "metadata": {
      "needs_background": "light"
     },
     "output_type": "display_data"
    }
   ],
   "source": [
    "plt.figure(1, figsize=(15, 9))\n",
    "plt.plot (anos, receita_media, label='Média')\n",
    "plt.ylabel('milhões')\n",
    "plt.title('Receita média por Anos')\n",
    "plt.grid(True)\n",
    "plt.legend()\n",
    "plt.savefig('receita_media.png', transparent=True)\n",
    "plt.show()"
   ]
  },
  {
   "cell_type": "code",
   "execution_count": 60,
   "metadata": {},
   "outputs": [
    {
     "data": {
      "image/png": "[encoded data removed]",
      "text/plain": [
       "<Figure size 1440x288 with 3 Axes>"
      ]
     },
     "metadata": {
      "needs_background": "light"
     },
     "output_type": "display_data"
    }
   ],
   "source": [
    "plt.figure(1, figsize=(20, 4))\n",
    "names = ['Despesa', 'Receita', 'Despesa vs Receita']\n",
    "values = [1, 10, 100]\n",
    "\n",
    "plt.subplot(131)\n",
    "plt.plot(anos, grafico_despesa)\n",
    "plt.title('Despesas por anos')\n",
    "plt.grid(True)\n",
    "\n",
    "plt.subplot(132)\n",
    "plt.plot(anos, receita_total)\n",
    "plt.title('Receitas por Anos')\n",
    "plt.grid(True)\n",
    "\n",
    "plt.subplot(133)\n",
    "plt.plot(anos, grafico_despesa, label='despesa')\n",
    "plt.plot(anos, receita_total, label='receita')\n",
    "plt.title('Receita vs Despesa por Anos')\n",
    "plt.grid(True)\n",
    "plt.savefig('quadroreceitadespesa.png', transparent=True)\n",
    "plt.show()\n"
   ]
  },
  {
   "cell_type": "markdown",
   "metadata": {},
   "source": [
    "# FUNCIONÁRIOS DA PREFEITURA"
   ]
  },
  {
   "cell_type": "code",
   "execution_count": 61,
   "metadata": {},
   "outputs": [],
   "source": [
    "jan_2009 = pd.read_csv ('tabela_pessoal2009jan.csv', sep='|')"
   ]
  },
  {
   "cell_type": "code",
   "execution_count": 62,
   "metadata": {},
   "outputs": [],
   "source": [
    "fev_2009 = pd.read_csv ('tabela_pessoal2009fev.csv', sep='|')"
   ]
  },
  {
   "cell_type": "code",
   "execution_count": 63,
   "metadata": {},
   "outputs": [],
   "source": [
    "mar_2009 = pd.read_csv ('tabela_pessoal2009fev.csv', sep='|')"
   ]
  },
  {
   "cell_type": "code",
   "execution_count": 64,
   "metadata": {},
   "outputs": [],
   "source": [
    "abr_2009 = pd.read_csv ('tabela_pessoal2009abr.csv', sep='|')"
   ]
  },
  {
   "cell_type": "code",
   "execution_count": 65,
   "metadata": {},
   "outputs": [],
   "source": [
    "mai_2009 = pd.read_csv ('tabela_pessoal2009mai.csv', sep='|')"
   ]
  },
  {
   "cell_type": "code",
   "execution_count": 66,
   "metadata": {},
   "outputs": [],
   "source": [
    "jun_2009 = pd.read_csv ('tabela_pessoal2009jun.csv', sep='|')"
   ]
  },
  {
   "cell_type": "code",
   "execution_count": 67,
   "metadata": {},
   "outputs": [],
   "source": [
    "jul_2009 = pd.read_csv ('tabela_pessoal2009jul.csv', sep='|')"
   ]
  },
  {
   "cell_type": "code",
   "execution_count": 68,
   "metadata": {},
   "outputs": [],
   "source": [
    "ago_2009 = pd.read_csv ('tabela_pessoal2009ago.csv', sep='|')"
   ]
  },
  {
   "cell_type": "code",
   "execution_count": 69,
   "metadata": {},
   "outputs": [],
   "source": [
    "set_2009 = pd.read_csv ('tabela_pessoal2009set.csv', sep='|')"
   ]
  },
  {
   "cell_type": "code",
   "execution_count": 70,
   "metadata": {},
   "outputs": [],
   "source": [
    "out_2009 = pd.read_csv ('tabela_pessoal2009out.csv', sep='|')"
   ]
  },
  {
   "cell_type": "code",
   "execution_count": 71,
   "metadata": {},
   "outputs": [],
   "source": [
    "nov_2009 = pd.read_csv ('tabela_pessoal2009nov.csv', sep='|')"
   ]
  },
  {
   "cell_type": "code",
   "execution_count": 72,
   "metadata": {},
   "outputs": [],
   "source": [
    "dez_2009 = pd.read_csv ('tabela_pessoal2009dez.csv', sep='|')"
   ]
  },
  {
   "cell_type": "code",
   "execution_count": 73,
   "metadata": {},
   "outputs": [],
   "source": [
    "jan_2010 = pd.read_csv ('tabela_pessoal2010jan.csv', sep='|')"
   ]
  },
  {
   "cell_type": "code",
   "execution_count": 74,
   "metadata": {},
   "outputs": [],
   "source": [
    "fev_2010 = pd.read_csv ('tabela_pessoal2010fev.csv', sep='|')"
   ]
  },
  {
   "cell_type": "code",
   "execution_count": 75,
   "metadata": {},
   "outputs": [],
   "source": [
    "mar_2010 = pd.read_csv ('tabela_pessoal2010mar.csv', sep='|')"
   ]
  },
  {
   "cell_type": "code",
   "execution_count": 76,
   "metadata": {},
   "outputs": [],
   "source": [
    "abr_2010 = pd.read_csv ('tabela_pessoal2010abr.csv', sep='|')"
   ]
  },
  {
   "cell_type": "code",
   "execution_count": 77,
   "metadata": {},
   "outputs": [],
   "source": [
    "mai_2010 = pd.read_csv ('tabela_pessoal2010mai.csv', sep='|')"
   ]
  },
  {
   "cell_type": "code",
   "execution_count": 78,
   "metadata": {},
   "outputs": [],
   "source": [
    "jun_2010 = pd.read_csv ('tabela_pessoal2010jun.csv', sep='|')"
   ]
  },
  {
   "cell_type": "code",
   "execution_count": 79,
   "metadata": {},
   "outputs": [],
   "source": [
    "jul_2010 = pd.read_csv ('tabela_pessoal2010jul.csv', sep='|')"
   ]
  },
  {
   "cell_type": "code",
   "execution_count": 80,
   "metadata": {},
   "outputs": [],
   "source": [
    "ago_2010 = pd.read_csv ('tabela_pessoal2010ago.csv', sep='|')"
   ]
  },
  {
   "cell_type": "code",
   "execution_count": 81,
   "metadata": {},
   "outputs": [],
   "source": [
    "set_2010 = pd.read_csv ('tabela_pessoal2010set.csv', sep='|')"
   ]
  },
  {
   "cell_type": "code",
   "execution_count": 82,
   "metadata": {},
   "outputs": [],
   "source": [
    "out_2010 = pd.read_csv ('tabela_pessoal2010out.csv', sep='|')"
   ]
  },
  {
   "cell_type": "code",
   "execution_count": 83,
   "metadata": {},
   "outputs": [],
   "source": [
    "nov_2010 = pd.read_csv ('tabela_pessoal2010nov.csv', sep='|')"
   ]
  },
  {
   "cell_type": "code",
   "execution_count": 84,
   "metadata": {},
   "outputs": [],
   "source": [
    "dez_2010 = pd.read_csv ('tabela_pessoal2010dez.csv', sep='|')"
   ]
  },
  {
   "cell_type": "code",
   "execution_count": 85,
   "metadata": {},
   "outputs": [],
   "source": [
    "jan_2011 = pd.read_csv ('tabela_pessoal2011jan.csv', sep='|')\n",
    "fev_2011 = pd.read_csv ('tabela_pessoal2011fev.csv', sep='|')\n",
    "mar_2011 = pd.read_csv ('tabela_pessoal2011mar.csv', sep='|')\n",
    "abr_2011 = pd.read_csv ('tabela_pessoal2011abr.csv', sep='|')\n",
    "mai_2011 = pd.read_csv ('tabela_pessoal2011mai.csv', sep='|')\n",
    "jun_2011 = pd.read_csv ('tabela_pessoal2011jun.csv', sep='|')\n",
    "jul_2011 = pd.read_csv ('tabela_pessoal2011jul.csv', sep='|')\n",
    "ago_2011 = pd.read_csv ('tabela_pessoal2011ago.csv', sep='|')\n",
    "set_2011 = pd.read_csv ('tabela_pessoal2011set.csv', sep='|')\n",
    "out_2011 = pd.read_csv ('tabela_pessoal2011out.csv', sep='|')\n",
    "nov_2011 = pd.read_csv ('tabela_pessoal2011nov.csv', sep='|')\n",
    "dez_2011 = pd.read_csv ('tabela_pessoal2011dez.csv', sep='|')"
   ]
  },
  {
   "cell_type": "code",
   "execution_count": 86,
   "metadata": {},
   "outputs": [],
   "source": [
    "jan_2012 = pd.read_csv ('tabela_pessoal2012jan.csv', sep='|')\n",
    "fev_2012 = pd.read_csv ('tabela_pessoal2012fev.csv', sep='|')\n",
    "mar_2012 = pd.read_csv ('tabela_pessoal2012mar.csv', sep='|')\n",
    "abr_2012 = pd.read_csv ('tabela_pessoal2012abr.csv', sep='|')\n",
    "mai_2012 = pd.read_csv ('tabela_pessoal2012mai.csv', sep='|')\n",
    "jun_2012 = pd.read_csv ('tabela_pessoal2012jun.csv', sep='|')\n",
    "jul_2012 = pd.read_csv ('tabela_pessoal2012jul.csv', sep='|')\n",
    "ago_2012 = pd.read_csv ('tabela_pessoal2012ago.csv', sep='|')\n",
    "set_2012 = pd.read_csv ('tabela_pessoal2012set.csv', sep='|')\n",
    "out_2012 = pd.read_csv ('tabela_pessoal2012out.csv', sep='|')\n",
    "nov_2012 = pd.read_csv ('tabela_pessoal2012nov.csv', sep='|')\n",
    "dez_2012 = pd.read_csv ('tabela_pessoal2012dez.csv', sep='|')"
   ]
  },
  {
   "cell_type": "code",
   "execution_count": 87,
   "metadata": {},
   "outputs": [],
   "source": [
    "jan_2013 = pd.read_csv ('tabela_pessoal2013jan.csv', sep='|')\n",
    "fev_2013 = pd.read_csv ('tabela_pessoal2013fev.csv', sep='|')\n",
    "mar_2013 = pd.read_csv ('tabela_pessoal2013mar.csv', sep='|')\n",
    "abr_2013 = pd.read_csv ('tabela_pessoal2013abr.csv', sep='|')\n",
    "mai_2013 = pd.read_csv ('tabela_pessoal2013mai.csv', sep='|')\n",
    "jun_2013 = pd.read_csv ('tabela_pessoal2013jun.csv', sep='|')\n",
    "jul_2013 = pd.read_csv ('tabela_pessoal2013jul.csv', sep='|')\n",
    "ago_2013 = pd.read_csv ('tabela_pessoal2013ago.csv', sep='|')\n",
    "set_2013 = pd.read_csv ('tabela_pessoal2013set.csv', sep='|')\n",
    "out_2013 = pd.read_csv ('tabela_pessoal2013out.csv', sep='|')\n",
    "nov_2013 = pd.read_csv ('tabela_pessoal2013nov.csv', sep='|')\n",
    "dez_2013 = pd.read_csv ('tabela_pessoal2013dez.csv', sep='|')"
   ]
  },
  {
   "cell_type": "code",
   "execution_count": 88,
   "metadata": {},
   "outputs": [],
   "source": [
    "jan_2014 = pd.read_csv ('tabela_pessoal2014jan.csv', sep='|')\n",
    "fev_2014= pd.read_csv ('tabela_pessoal2014fev.csv', sep='|')\n",
    "mar_2014 = pd.read_csv ('tabela_pessoal2014mar.csv', sep='|')\n",
    "abr_2014 = pd.read_csv ('tabela_pessoal2014abr.csv', sep='|')\n",
    "mai_2014 = pd.read_csv ('tabela_pessoal2014mai.csv', sep='|')\n",
    "jun_2014 = pd.read_csv ('tabela_pessoal2014jun.csv', sep='|')\n",
    "jul_2014 = pd.read_csv ('tabela_pessoal2014jul.csv', sep='|')\n",
    "ago_2014 = pd.read_csv ('tabela_pessoal2014ago.csv', sep='|')\n",
    "set_2014 = pd.read_csv ('tabela_pessoal2014set.csv', sep='|')\n",
    "out_2014 = pd.read_csv ('tabela_pessoal2014out.csv', sep='|')\n",
    "nov_2014 = pd.read_csv ('tabela_pessoal2014nov.csv', sep='|')\n",
    "dez_2014 = pd.read_csv ('tabela_pessoal2014dez.csv', sep='|')"
   ]
  },
  {
   "cell_type": "code",
   "execution_count": 89,
   "metadata": {},
   "outputs": [],
   "source": [
    "jan_2015 = pd.read_csv ('tabela_pessoal2015jan.csv', sep='|')\n",
    "fev_2015= pd.read_csv ('tabela_pessoal2015fev.csv', sep='|')\n",
    "mar_2015 = pd.read_csv ('tabela_pessoal2015mar.csv', sep='|')\n",
    "abr_2015 = pd.read_csv ('tabela_pessoal2015abr.csv', sep='|')\n",
    "mai_2015 = pd.read_csv ('tabela_pessoal2015mai.csv', sep='|')\n",
    "jun_2015 = pd.read_csv ('tabela_pessoal2015jun.csv', sep='|')\n",
    "jul_2015 = pd.read_csv ('tabela_pessoal2015jul.csv', sep='|')\n",
    "ago_2015 = pd.read_csv ('tabela_pessoal2015ago.csv', sep='|')\n",
    "set_2015 = pd.read_csv ('tabela_pessoal2015set.csv', sep='|')\n",
    "out_2015 = pd.read_csv ('tabela_pessoal2015out.csv', sep='|')\n",
    "nov_2015 = pd.read_csv ('tabela_pessoal2015nov.csv', sep='|')\n",
    "dez_2015 = pd.read_csv ('tabela_pessoal2015dez.csv', sep='|')"
   ]
  },
  {
   "cell_type": "code",
   "execution_count": 90,
   "metadata": {},
   "outputs": [],
   "source": [
    "jan_2016 = pd.read_csv ('tabela_pessoal2016jan.csv', sep='|')\n",
    "fev_2016= pd.read_csv ('tabela_pessoal2016fev.csv', sep='|')\n",
    "mar_2016 = pd.read_csv ('tabela_pessoal2016mar.csv', sep='|')\n",
    "abr_2016 = pd.read_csv ('tabela_pessoal2016abr.csv', sep='|')\n",
    "mai_2016 = pd.read_csv ('tabela_pessoal2016mai.csv', sep='|')\n",
    "jun_2016 = pd.read_csv ('tabela_pessoal2016jun.csv', sep='|')\n",
    "jul_2016= pd.read_csv ('tabela_pessoal2016jul.csv', sep='|')\n",
    "ago_2016 = pd.read_csv ('tabela_pessoal2016ago.csv', sep='|')\n",
    "set_2016 = pd.read_csv ('tabela_pessoal2016set.csv', sep='|')\n",
    "out_2016 = pd.read_csv ('tabela_pessoal2016out.csv', sep='|')\n",
    "nov_2016 = pd.read_csv ('tabela_pessoal2016nov.csv', sep='|')\n",
    "dez_2016 = pd.read_csv ('tabela_pessoal2016dez.csv', sep='|')"
   ]
  },
  {
   "cell_type": "code",
   "execution_count": 91,
   "metadata": {},
   "outputs": [],
   "source": [
    "jan_2017= pd.read_csv ('tabela_pessoal2017jan.csv', sep='|')\n",
    "fev_2017= pd.read_csv ('tabela_pessoal2017fev.csv', sep='|')\n",
    "mar_2017 = pd.read_csv ('tabela_pessoal2017mar.csv', sep='|')\n",
    "abr_2017= pd.read_csv ('tabela_pessoal2017abr.csv', sep='|')\n",
    "mai_2017 = pd.read_csv ('tabela_pessoal2017mai.csv', sep='|')\n",
    "jun_2017 = pd.read_csv ('tabela_pessoal2017jun.csv', sep='|')\n",
    "jul_2017= pd.read_csv ('tabela_pessoal2017jul.csv', sep='|')\n",
    "ago_2017 = pd.read_csv ('tabela_pessoal2017ago.csv', sep='|')\n",
    "set_2017= pd.read_csv ('tabela_pessoal2017set.csv', sep='|')\n",
    "out_2017= pd.read_csv ('tabela_pessoal2017out.csv', sep='|')\n",
    "nov_2017 = pd.read_csv ('tabela_pessoal2017nov.csv', sep='|')\n",
    "dez_2017 = pd.read_csv ('tabela_pessoal2017dez.csv', sep='|')"
   ]
  },
  {
   "cell_type": "code",
   "execution_count": 92,
   "metadata": {},
   "outputs": [],
   "source": [
    "jan_2018= pd.read_csv ('tabela_pessoal2018jan.csv', sep='|')\n",
    "fev_2018= pd.read_csv ('tabela_pessoal2018fev.csv', sep='|')\n",
    "mar_2018 = pd.read_csv ('tabela_pessoal2018mar.csv', sep='|')\n",
    "abr_2018= pd.read_csv ('tabela_pessoal2018abr.csv', sep='|')\n",
    "mai_2018 = pd.read_csv ('tabela_pessoal2018mai.csv', sep='|')\n",
    "jun_2018 = pd.read_csv ('tabela_pessoal2018jun.csv', sep='|')\n",
    "jul_2018= pd.read_csv ('tabela_pessoal2018jul.csv', sep='|')\n",
    "ago_2018 = pd.read_csv ('tabela_pessoal2018ago.csv', sep='|')\n",
    "set_2018= pd.read_csv ('tabela_pessoal2018set.csv', sep='|')\n",
    "out_2018= pd.read_csv ('tabela_pessoal2018out.csv', sep='|')\n",
    "nov_2018 = pd.read_csv ('tabela_pessoal2018nov.csv', sep='|')\n",
    "dez_2018= pd.read_csv ('tabela_pessoal2018dez.csv', sep='|')"
   ]
  },
  {
   "cell_type": "code",
   "execution_count": 93,
   "metadata": {},
   "outputs": [],
   "source": [
    "ano_2009_total = jan_2009.append(fev_2009).append(mar_2009).append(abr_2009).append(mai_2009).append(jun_2009).append(jul_2009).append(ago_2009).append(set_2009).append(out_2009).append(nov_2009).append(dez_2009)"
   ]
  },
  {
   "cell_type": "code",
   "execution_count": 94,
   "metadata": {},
   "outputs": [],
   "source": [
    "ano_2010_total = jan_2010.append(fev_2010).append(mar_2010).append(abr_2010).append(mai_2010).append(jun_2010).append(jul_2010).append(ago_2010).append(set_2010).append(out_2010).append(nov_2010).append(dez_2010)"
   ]
  },
  {
   "cell_type": "code",
   "execution_count": 95,
   "metadata": {},
   "outputs": [],
   "source": [
    "ano_2011_total = jan_2011.append(fev_2011).append(mar_2011).append(abr_2011).append(mai_2011).append(jun_2011).append(jul_2011).append(ago_2011).append(set_2011).append(out_2011).append(nov_2011).append(dez_2011)"
   ]
  },
  {
   "cell_type": "code",
   "execution_count": 96,
   "metadata": {},
   "outputs": [],
   "source": [
    "ano_2012_total = jan_2012.append(fev_2012).append(mar_2012).append(abr_2012).append(mai_2012).append(jun_2012).append(jul_2012).append(ago_2012).append(set_2012).append(out_2012).append(nov_2012).append(dez_2012)\n",
    "ano_2013_total = jan_2013.append(fev_2013).append(mar_2013).append(abr_2013).append(mai_2013).append(jun_2013).append(jul_2013).append(ago_2013).append(set_2013).append(out_2013).append(nov_2013).append(dez_2013)\n",
    "ano_2014_total = jan_2014.append(fev_2014).append(mar_2014).append(abr_2014).append(mai_2014).append(jun_2014).append(jul_2014).append(ago_2014).append(set_2014).append(out_2014).append(nov_2014).append(dez_2014)\n",
    "ano_2015_total = jan_2015.append(fev_2015).append(mar_2015).append(abr_2015).append(mai_2015).append(jun_2015).append(jul_2015).append(ago_2015).append(set_2015).append(out_2015).append(nov_2015).append(dez_2015)\n",
    "ano_2016_total = jan_2016.append(fev_2016).append(mar_2016).append(abr_2016).append(mai_2016).append(jun_2016).append(jul_2016).append(ago_2016).append(set_2016).append(out_2016).append(nov_2016).append(dez_2016)\n",
    "ano_2017_total = jan_2017.append(fev_2017).append(mar_2017).append(abr_2017).append(mai_2017).append(jun_2017).append(jul_2017).append(ago_2017).append(set_2017).append(out_2017).append(nov_2017).append(dez_2017)\n",
    "ano_2018_total = jan_2018.append(fev_2018).append(mar_2018).append(abr_2018).append(mai_2018).append(jun_2018).append(jul_2018).append(ago_2018).append(set_2018).append(out_2018).append(nov_2018).append(dez_2018)"
   ]
  },
  {
   "cell_type": "code",
   "execution_count": 97,
   "metadata": {},
   "outputs": [],
   "source": [
    "# total = ano_2009_total.append(ano_2010_total).append(ano_2011_total).append(ano_2012_total).append(ano_2013_total).append(ano_2014_total).append(ano_2015_total).append(ano_2016_total).append(ano_2017_total).append(ano_2018_total)\n"
   ]
  },
  {
   "cell_type": "code",
   "execution_count": 98,
   "metadata": {},
   "outputs": [
    {
     "data": {
      "text/html": [
       "<div>\n",
       "<style scoped>\n",
       "    .dataframe tbody tr th:only-of-type {\n",
       "        vertical-align: middle;\n",
       "    }\n",
       "\n",
       "    .dataframe tbody tr th {\n",
       "        vertical-align: top;\n",
       "    }\n",
       "\n",
       "    .dataframe thead th {\n",
       "        text-align: right;\n",
       "    }\n",
       "</style>\n",
       "<table border=\"1\" class=\"dataframe\">\n",
       "  <thead>\n",
       "    <tr style=\"text-align: right;\">\n",
       "      <th></th>\n",
       "      <th>id_servidor</th>\n",
       "      <th>nome</th>\n",
       "      <th>cpf</th>\n",
       "      <th>cargo</th>\n",
       "      <th>tipo_contratacao</th>\n",
       "      <th>entidade</th>\n",
       "      <th>unidade</th>\n",
       "      <th>data_pagamento</th>\n",
       "      <th>valor_total</th>\n",
       "      <th>valor_liquido</th>\n",
       "    </tr>\n",
       "  </thead>\n",
       "  <tbody>\n",
       "    <tr>\n",
       "      <th>25124</th>\n",
       "      <td>40407</td>\n",
       "      <td>MAX FABIO BICHARA DANTAS</td>\n",
       "      <td>XXX026504XX</td>\n",
       "      <td>AG. FISC. AUD. DE TRIBUTOS ATA 301</td>\n",
       "      <td>Efetivo</td>\n",
       "      <td>PMJP - PREFEITURA MUNICIPAL DE JOÃO PESSOA</td>\n",
       "      <td>DIRETORIA DE ADMINISTRAÇÃO E FINANÇAS</td>\n",
       "      <td>2018-12-01</td>\n",
       "      <td>51828.78</td>\n",
       "      <td>23174.94</td>\n",
       "    </tr>\n",
       "    <tr>\n",
       "      <th>28112</th>\n",
       "      <td>8142</td>\n",
       "      <td>RIVALDO ALVES PEREIRA DA COSTA</td>\n",
       "      <td>XXX635534XX</td>\n",
       "      <td>AG. FISC. AUD. DE TRIBUTOS ATA 301</td>\n",
       "      <td>Efetivo</td>\n",
       "      <td>PMJP - PREFEITURA MUNICIPAL DE JOÃO PESSOA</td>\n",
       "      <td>DIRETORIA DE ADMINISTRAÇÃO E FINANÇAS</td>\n",
       "      <td>2018-12-01</td>\n",
       "      <td>48018.08</td>\n",
       "      <td>32904.92</td>\n",
       "    </tr>\n",
       "    <tr>\n",
       "      <th>207</th>\n",
       "      <td>41976</td>\n",
       "      <td>ADENILSON DE OLIVEIRA FERREIRA</td>\n",
       "      <td>XXX967884XX</td>\n",
       "      <td>AG. FISC. AUD. DE TRIBUTOS ATA 301</td>\n",
       "      <td>Efetivo</td>\n",
       "      <td>PMJP - PREFEITURA MUNICIPAL DE JOÃO PESSOA</td>\n",
       "      <td>DIRETORIA DE ADMINISTRAÇÃO E FINANÇAS</td>\n",
       "      <td>2018-06-01</td>\n",
       "      <td>47671.82</td>\n",
       "      <td>23911.61</td>\n",
       "    </tr>\n",
       "    <tr>\n",
       "      <th>210</th>\n",
       "      <td>41976</td>\n",
       "      <td>ADENILSON DE OLIVEIRA FERREIRA</td>\n",
       "      <td>XXX967884XX</td>\n",
       "      <td>AG. FISC. AUD. DE TRIBUTOS ATA 301</td>\n",
       "      <td>Efetivo</td>\n",
       "      <td>PMJP - PREFEITURA MUNICIPAL DE JOÃO PESSOA</td>\n",
       "      <td>DIRETORIA DE ADMINISTRAÇÃO E FINANÇAS</td>\n",
       "      <td>2018-08-01</td>\n",
       "      <td>47567.03</td>\n",
       "      <td>20536.59</td>\n",
       "    </tr>\n",
       "    <tr>\n",
       "      <th>7069</th>\n",
       "      <td>33232</td>\n",
       "      <td>EDUARDO DA SILVA OLIVEIRA</td>\n",
       "      <td>XXX459244XX</td>\n",
       "      <td>AG. FISC. AUD. DE TRIBUTOS ATA 301</td>\n",
       "      <td>Efetivo</td>\n",
       "      <td>PMJP - PREFEITURA MUNICIPAL DE JOÃO PESSOA</td>\n",
       "      <td>DIRETORIA DE ADMINISTRAÇÃO E FINANÇAS</td>\n",
       "      <td>2018-12-01</td>\n",
       "      <td>43915.62</td>\n",
       "      <td>28992.21</td>\n",
       "    </tr>\n",
       "  </tbody>\n",
       "</table>\n",
       "</div>"
      ],
      "text/plain": [
       "       id_servidor                            nome          cpf  \\\n",
       "25124        40407        MAX FABIO BICHARA DANTAS  XXX026504XX   \n",
       "28112         8142  RIVALDO ALVES PEREIRA DA COSTA  XXX635534XX   \n",
       "207          41976  ADENILSON DE OLIVEIRA FERREIRA  XXX967884XX   \n",
       "210          41976  ADENILSON DE OLIVEIRA FERREIRA  XXX967884XX   \n",
       "7069         33232       EDUARDO DA SILVA OLIVEIRA  XXX459244XX   \n",
       "\n",
       "                                    cargo tipo_contratacao  \\\n",
       "25124  AG. FISC. AUD. DE TRIBUTOS ATA 301          Efetivo   \n",
       "28112  AG. FISC. AUD. DE TRIBUTOS ATA 301          Efetivo   \n",
       "207    AG. FISC. AUD. DE TRIBUTOS ATA 301          Efetivo   \n",
       "210    AG. FISC. AUD. DE TRIBUTOS ATA 301          Efetivo   \n",
       "7069   AG. FISC. AUD. DE TRIBUTOS ATA 301          Efetivo   \n",
       "\n",
       "                                         entidade  \\\n",
       "25124  PMJP - PREFEITURA MUNICIPAL DE JOÃO PESSOA   \n",
       "28112  PMJP - PREFEITURA MUNICIPAL DE JOÃO PESSOA   \n",
       "207    PMJP - PREFEITURA MUNICIPAL DE JOÃO PESSOA   \n",
       "210    PMJP - PREFEITURA MUNICIPAL DE JOÃO PESSOA   \n",
       "7069   PMJP - PREFEITURA MUNICIPAL DE JOÃO PESSOA   \n",
       "\n",
       "                                     unidade data_pagamento  valor_total  \\\n",
       "25124  DIRETORIA DE ADMINISTRAÇÃO E FINANÇAS     2018-12-01     51828.78   \n",
       "28112  DIRETORIA DE ADMINISTRAÇÃO E FINANÇAS     2018-12-01     48018.08   \n",
       "207    DIRETORIA DE ADMINISTRAÇÃO E FINANÇAS     2018-06-01     47671.82   \n",
       "210    DIRETORIA DE ADMINISTRAÇÃO E FINANÇAS     2018-08-01     47567.03   \n",
       "7069   DIRETORIA DE ADMINISTRAÇÃO E FINANÇAS     2018-12-01     43915.62   \n",
       "\n",
       "       valor_liquido  \n",
       "25124       23174.94  \n",
       "28112       32904.92  \n",
       "207         23911.61  \n",
       "210         20536.59  \n",
       "7069        28992.21  "
      ]
     },
     "execution_count": 98,
     "metadata": {},
     "output_type": "execute_result"
    }
   ],
   "source": [
    "ano_2018_total.nlargest(5,'valor_total')"
   ]
  },
  {
   "cell_type": "code",
   "execution_count": 99,
   "metadata": {},
   "outputs": [
    {
     "data": {
      "text/html": [
       "<div>\n",
       "<style scoped>\n",
       "    .dataframe tbody tr th:only-of-type {\n",
       "        vertical-align: middle;\n",
       "    }\n",
       "\n",
       "    .dataframe tbody tr th {\n",
       "        vertical-align: top;\n",
       "    }\n",
       "\n",
       "    .dataframe thead th {\n",
       "        text-align: right;\n",
       "    }\n",
       "</style>\n",
       "<table border=\"1\" class=\"dataframe\">\n",
       "  <thead>\n",
       "    <tr style=\"text-align: right;\">\n",
       "      <th></th>\n",
       "      <th>id_servidor</th>\n",
       "      <th>nome</th>\n",
       "      <th>cpf</th>\n",
       "      <th>cargo</th>\n",
       "      <th>tipo_contratacao</th>\n",
       "      <th>entidade</th>\n",
       "      <th>unidade</th>\n",
       "      <th>data_pagamento</th>\n",
       "      <th>valor_total</th>\n",
       "      <th>valor_liquido</th>\n",
       "    </tr>\n",
       "  </thead>\n",
       "  <tbody>\n",
       "    <tr>\n",
       "      <th>1</th>\n",
       "      <td>54964</td>\n",
       "      <td>ABDON NUNES XAVIER NETO</td>\n",
       "      <td>XXX155044XX</td>\n",
       "      <td>BIOQUIMICO</td>\n",
       "      <td>Efetivo</td>\n",
       "      <td>PMJP - PREFEITURA MUNICIPAL DE JOÃO PESSOA</td>\n",
       "      <td>NaN</td>\n",
       "      <td>2009-01-01</td>\n",
       "      <td>1119.47</td>\n",
       "      <td>NaN</td>\n",
       "    </tr>\n",
       "    <tr>\n",
       "      <th>2</th>\n",
       "      <td>66416</td>\n",
       "      <td>ABEL CAVALCANTE DE SOUZA</td>\n",
       "      <td>XXX531444XX</td>\n",
       "      <td>VIGILANTE MUNICIPAL</td>\n",
       "      <td>Efetivo</td>\n",
       "      <td>PMJP - PREFEITURA MUNICIPAL DE JOÃO PESSOA</td>\n",
       "      <td>MANUTENCAO DOS SERVICOS PESSOAL</td>\n",
       "      <td>2009-01-01</td>\n",
       "      <td>830.14</td>\n",
       "      <td>NaN</td>\n",
       "    </tr>\n",
       "    <tr>\n",
       "      <th>4</th>\n",
       "      <td>59433</td>\n",
       "      <td>ABELARDO DA SILVA FERNANDES</td>\n",
       "      <td>XXX300974XX</td>\n",
       "      <td>PROFESSOR DA EDUCACAO BASICA II</td>\n",
       "      <td>Efetivo</td>\n",
       "      <td>PMJP - PREFEITURA MUNICIPAL DE JOÃO PESSOA</td>\n",
       "      <td>NaN</td>\n",
       "      <td>2009-01-01</td>\n",
       "      <td>1387.03</td>\n",
       "      <td>NaN</td>\n",
       "    </tr>\n",
       "    <tr>\n",
       "      <th>6</th>\n",
       "      <td>50075</td>\n",
       "      <td>ABGAIL SOARES LOPES</td>\n",
       "      <td>XXX000294XX</td>\n",
       "      <td>AUX. DE ENFERMAGEM</td>\n",
       "      <td>Efetivo</td>\n",
       "      <td>PMJP - PREFEITURA MUNICIPAL DE JOÃO PESSOA</td>\n",
       "      <td>NaN</td>\n",
       "      <td>2009-01-01</td>\n",
       "      <td>560.74</td>\n",
       "      <td>NaN</td>\n",
       "    </tr>\n",
       "    <tr>\n",
       "      <th>7</th>\n",
       "      <td>50075</td>\n",
       "      <td>ABGAIL SOARES LOPES</td>\n",
       "      <td>XXX000294XX</td>\n",
       "      <td>AUXILIAR DE ENFERMAGEM EFT</td>\n",
       "      <td>Efetivo</td>\n",
       "      <td>ICV - INSTITUTO CÂNDIDA VARGAS</td>\n",
       "      <td>INSTITUTO CANDIDA VARGAS</td>\n",
       "      <td>2009-01-01</td>\n",
       "      <td>400.00</td>\n",
       "      <td>NaN</td>\n",
       "    </tr>\n",
       "    <tr>\n",
       "      <th>8</th>\n",
       "      <td>56746</td>\n",
       "      <td>ABIGAIL EVANGELISTA T. DA SILVA</td>\n",
       "      <td>XXX212284XX</td>\n",
       "      <td>AUXILIAR DE ADMINISTRACAO</td>\n",
       "      <td>Efetivo</td>\n",
       "      <td>PMJP - PREFEITURA MUNICIPAL DE JOÃO PESSOA</td>\n",
       "      <td>NaN</td>\n",
       "      <td>2009-01-01</td>\n",
       "      <td>518.17</td>\n",
       "      <td>NaN</td>\n",
       "    </tr>\n",
       "    <tr>\n",
       "      <th>9</th>\n",
       "      <td>70112</td>\n",
       "      <td>ABIGAIL NIEDJA DE M SA BRAGA</td>\n",
       "      <td>XXX647554XX</td>\n",
       "      <td>PROFESSOR DA EDUCACAO BASICA I</td>\n",
       "      <td>Efetivo</td>\n",
       "      <td>PMJP - PREFEITURA MUNICIPAL DE JOÃO PESSOA</td>\n",
       "      <td>NaN</td>\n",
       "      <td>2009-01-01</td>\n",
       "      <td>1977.81</td>\n",
       "      <td>NaN</td>\n",
       "    </tr>\n",
       "    <tr>\n",
       "      <th>14</th>\n",
       "      <td>67444</td>\n",
       "      <td>ABIONES FIGUEIREDO NASCIMENTO DE ARAUJO</td>\n",
       "      <td>XXX565434XX</td>\n",
       "      <td>SEM CARGO</td>\n",
       "      <td>Efetivo</td>\n",
       "      <td>IPM - INSTITUTO DE PREVIDÊNCIA DO MUNICÍPIO DE...</td>\n",
       "      <td>IPM</td>\n",
       "      <td>2009-01-01</td>\n",
       "      <td>1000.00</td>\n",
       "      <td>NaN</td>\n",
       "    </tr>\n",
       "    <tr>\n",
       "      <th>15</th>\n",
       "      <td>73011</td>\n",
       "      <td>ABRAAO ALVES DE CARVALHO</td>\n",
       "      <td>XXX742364XX</td>\n",
       "      <td>PROFESSOR DA EDUCACAO BASICA II</td>\n",
       "      <td>Efetivo</td>\n",
       "      <td>PMJP - PREFEITURA MUNICIPAL DE JOÃO PESSOA</td>\n",
       "      <td>NaN</td>\n",
       "      <td>2009-01-01</td>\n",
       "      <td>1024.97</td>\n",
       "      <td>NaN</td>\n",
       "    </tr>\n",
       "    <tr>\n",
       "      <th>17</th>\n",
       "      <td>57928</td>\n",
       "      <td>ABRAAO FORTUNATO PEREIRA</td>\n",
       "      <td>XXX250144XX</td>\n",
       "      <td>TECNICO EM ENFERMAGEM-20</td>\n",
       "      <td>Efetivo</td>\n",
       "      <td>FMS - FUNDO MUNICIPAL DE SAÚDE</td>\n",
       "      <td>FMS - FUNDO MUNICIPAL DE SAÚDE</td>\n",
       "      <td>2009-01-01</td>\n",
       "      <td>180.00</td>\n",
       "      <td>NaN</td>\n",
       "    </tr>\n",
       "    <tr>\n",
       "      <th>18</th>\n",
       "      <td>57928</td>\n",
       "      <td>ABRAAO FORTUNATO PEREIRA</td>\n",
       "      <td>XXX250144XX</td>\n",
       "      <td>TECNICO EM ENFERMAGEM</td>\n",
       "      <td>Efetivo</td>\n",
       "      <td>PMJP - PREFEITURA MUNICIPAL DE JOÃO PESSOA</td>\n",
       "      <td>ENCARGOS COM O PESSOAL ATIVO DA SA+DE</td>\n",
       "      <td>2009-01-01</td>\n",
       "      <td>576.07</td>\n",
       "      <td>NaN</td>\n",
       "    </tr>\n",
       "    <tr>\n",
       "      <th>19</th>\n",
       "      <td>61643</td>\n",
       "      <td>ABRAAO SEVERINO BATISTA SILVA</td>\n",
       "      <td>XXX375314XX</td>\n",
       "      <td>VIGILANTE MUNICIPAL</td>\n",
       "      <td>Efetivo</td>\n",
       "      <td>PMJP - PREFEITURA MUNICIPAL DE JOÃO PESSOA</td>\n",
       "      <td>MANUTENCAO DOS SERVICOS PESSOAL</td>\n",
       "      <td>2009-01-01</td>\n",
       "      <td>797.58</td>\n",
       "      <td>NaN</td>\n",
       "    </tr>\n",
       "    <tr>\n",
       "      <th>20</th>\n",
       "      <td>64118</td>\n",
       "      <td>ACHILLES DE SOUZA ANDRADE</td>\n",
       "      <td>XXX458814XX</td>\n",
       "      <td>AGENTE LIMPEZA URBANA</td>\n",
       "      <td>Efetivo</td>\n",
       "      <td>EMLUR - AUTARQUIA ESPECIAL MUNICIPAL DE LIMPEZ...</td>\n",
       "      <td>NaN</td>\n",
       "      <td>2009-01-01</td>\n",
       "      <td>669.51</td>\n",
       "      <td>NaN</td>\n",
       "    </tr>\n",
       "    <tr>\n",
       "      <th>26</th>\n",
       "      <td>53887</td>\n",
       "      <td>ADAILMA NUNES PEREIRA</td>\n",
       "      <td>XXX122584XX</td>\n",
       "      <td>AUXILIAR DE ADMINISTRACAO</td>\n",
       "      <td>Efetivo</td>\n",
       "      <td>FMS - FUNDO MUNICIPAL DE SAÚDE</td>\n",
       "      <td>FMS - FUNDO MUNICIPAL DE SAÚDE</td>\n",
       "      <td>2009-01-01</td>\n",
       "      <td>150.00</td>\n",
       "      <td>NaN</td>\n",
       "    </tr>\n",
       "    <tr>\n",
       "      <th>27</th>\n",
       "      <td>53887</td>\n",
       "      <td>ADAILMA NUNES PEREIRA</td>\n",
       "      <td>XXX122584XX</td>\n",
       "      <td>TELEFONISTA</td>\n",
       "      <td>Efetivo</td>\n",
       "      <td>PMJP - PREFEITURA MUNICIPAL DE JOÃO PESSOA</td>\n",
       "      <td>NaN</td>\n",
       "      <td>2009-01-01</td>\n",
       "      <td>713.33</td>\n",
       "      <td>NaN</td>\n",
       "    </tr>\n",
       "    <tr>\n",
       "      <th>28</th>\n",
       "      <td>71723</td>\n",
       "      <td>ADAILSON ALVES SABINO</td>\n",
       "      <td>XXX698584XX</td>\n",
       "      <td>TECNICO EM ELETRONICA</td>\n",
       "      <td>Efetivo</td>\n",
       "      <td>PMJP - PREFEITURA MUNICIPAL DE JOÃO PESSOA</td>\n",
       "      <td>NaN</td>\n",
       "      <td>2009-01-01</td>\n",
       "      <td>741.20</td>\n",
       "      <td>NaN</td>\n",
       "    </tr>\n",
       "    <tr>\n",
       "      <th>30</th>\n",
       "      <td>79643</td>\n",
       "      <td>ADAILTON BERNADINO DOS SANTOS</td>\n",
       "      <td>XXX955474XX</td>\n",
       "      <td>AGENTE LIMPEZA URBANA</td>\n",
       "      <td>Efetivo</td>\n",
       "      <td>EMLUR - AUTARQUIA ESPECIAL MUNICIPAL DE LIMPEZ...</td>\n",
       "      <td>NaN</td>\n",
       "      <td>2009-01-01</td>\n",
       "      <td>669.51</td>\n",
       "      <td>NaN</td>\n",
       "    </tr>\n",
       "    <tr>\n",
       "      <th>31</th>\n",
       "      <td>58042</td>\n",
       "      <td>ADAILTON DE OLIVEIRA LIMA</td>\n",
       "      <td>XXX253764XX</td>\n",
       "      <td>AGENTE LIMPEZA URBANA</td>\n",
       "      <td>Efetivo</td>\n",
       "      <td>EMLUR - AUTARQUIA ESPECIAL MUNICIPAL DE LIMPEZ...</td>\n",
       "      <td>NaN</td>\n",
       "      <td>2009-01-01</td>\n",
       "      <td>708.28</td>\n",
       "      <td>NaN</td>\n",
       "    </tr>\n",
       "    <tr>\n",
       "      <th>33</th>\n",
       "      <td>60684</td>\n",
       "      <td>ADAILTON LIMA DA SILVA</td>\n",
       "      <td>XXX343984XX</td>\n",
       "      <td>AUXILIAR DE SERV DE OBRAS</td>\n",
       "      <td>Efetivo</td>\n",
       "      <td>PMJP - PREFEITURA MUNICIPAL DE JOÃO PESSOA</td>\n",
       "      <td>NaN</td>\n",
       "      <td>2009-01-01</td>\n",
       "      <td>544.71</td>\n",
       "      <td>NaN</td>\n",
       "    </tr>\n",
       "    <tr>\n",
       "      <th>35</th>\n",
       "      <td>56913</td>\n",
       "      <td>ADAILTON LINO FERREIRA</td>\n",
       "      <td>XXX217684XX</td>\n",
       "      <td>DENTISTA-20</td>\n",
       "      <td>Efetivo</td>\n",
       "      <td>FMS - FUNDO MUNICIPAL DE SAÚDE</td>\n",
       "      <td>NaN</td>\n",
       "      <td>2009-01-01</td>\n",
       "      <td>300.00</td>\n",
       "      <td>NaN</td>\n",
       "    </tr>\n",
       "    <tr>\n",
       "      <th>36</th>\n",
       "      <td>72807</td>\n",
       "      <td>ADAILTON LINO FERREIRA JUNIOR</td>\n",
       "      <td>XXX735104XX</td>\n",
       "      <td>AUXILIAR DE SERVICOS DIVERSOS</td>\n",
       "      <td>Efetivo</td>\n",
       "      <td>PMJP - PREFEITURA MUNICIPAL DE JOÃO PESSOA</td>\n",
       "      <td>NaN</td>\n",
       "      <td>2009-01-01</td>\n",
       "      <td>706.06</td>\n",
       "      <td>NaN</td>\n",
       "    </tr>\n",
       "    <tr>\n",
       "      <th>37</th>\n",
       "      <td>72807</td>\n",
       "      <td>ADAILTON LINO FERREIRA JUNIOR</td>\n",
       "      <td>XXX735104XX</td>\n",
       "      <td>OPERARIO</td>\n",
       "      <td>Efetivo</td>\n",
       "      <td>PMJP - PREFEITURA MUNICIPAL DE JOÃO PESSOA</td>\n",
       "      <td>NaN</td>\n",
       "      <td>2009-01-01</td>\n",
       "      <td>716.12</td>\n",
       "      <td>NaN</td>\n",
       "    </tr>\n",
       "    <tr>\n",
       "      <th>38</th>\n",
       "      <td>78621</td>\n",
       "      <td>ADAILTON LOURENCO RUFO</td>\n",
       "      <td>XXX923784XX</td>\n",
       "      <td>AGENTE D VIGILANCIA AMBIENTAL -PEVA</td>\n",
       "      <td>Efetivo</td>\n",
       "      <td>FMS - FUNDO MUNICIPAL DE SAÚDE</td>\n",
       "      <td>FMS - FUNDO MUNICIPAL DE SAÚDE</td>\n",
       "      <td>2009-01-01</td>\n",
       "      <td>440.44</td>\n",
       "      <td>NaN</td>\n",
       "    </tr>\n",
       "    <tr>\n",
       "      <th>39</th>\n",
       "      <td>68441</td>\n",
       "      <td>ADAILTON MARQUES DA ALMEIDA</td>\n",
       "      <td>XXX596594XX</td>\n",
       "      <td>AGENTE ADMINISTRATIVO</td>\n",
       "      <td>Efetivo</td>\n",
       "      <td>PMJP - PREFEITURA MUNICIPAL DE JOÃO PESSOA</td>\n",
       "      <td>NaN</td>\n",
       "      <td>2009-01-01</td>\n",
       "      <td>701.18</td>\n",
       "      <td>NaN</td>\n",
       "    </tr>\n",
       "    <tr>\n",
       "      <th>43</th>\n",
       "      <td>56488</td>\n",
       "      <td>ADAILZA FIDELIS DOS SANTOS</td>\n",
       "      <td>XXX203774XX</td>\n",
       "      <td>TECNICO EM ENFERMAGEM</td>\n",
       "      <td>Efetivo</td>\n",
       "      <td>PMJP - PREFEITURA MUNICIPAL DE JOÃO PESSOA</td>\n",
       "      <td>NaN</td>\n",
       "      <td>2009-01-01</td>\n",
       "      <td>610.21</td>\n",
       "      <td>NaN</td>\n",
       "    </tr>\n",
       "    <tr>\n",
       "      <th>44</th>\n",
       "      <td>67522</td>\n",
       "      <td>ADALBERTO ALVES ARAUJO FILHO</td>\n",
       "      <td>XXX567874XX</td>\n",
       "      <td>ARQUITETO</td>\n",
       "      <td>Efetivo</td>\n",
       "      <td>STTRANS - SUPERINTENDENCIA DE TRANSPORTES E TR...</td>\n",
       "      <td>NaN</td>\n",
       "      <td>2009-01-01</td>\n",
       "      <td>6719.40</td>\n",
       "      <td>NaN</td>\n",
       "    </tr>\n",
       "    <tr>\n",
       "      <th>45</th>\n",
       "      <td>50903</td>\n",
       "      <td>ADALBERTO ARAUJO PEREIRA</td>\n",
       "      <td>XXX029694XX</td>\n",
       "      <td>PROFESSOR DA EDUCACAO BASICA II</td>\n",
       "      <td>Efetivo</td>\n",
       "      <td>PMJP - PREFEITURA MUNICIPAL DE JOÃO PESSOA</td>\n",
       "      <td>NaN</td>\n",
       "      <td>2009-01-01</td>\n",
       "      <td>1407.68</td>\n",
       "      <td>NaN</td>\n",
       "    </tr>\n",
       "    <tr>\n",
       "      <th>46</th>\n",
       "      <td>57344</td>\n",
       "      <td>ADALBERTO BENTO PATRICIO</td>\n",
       "      <td>XXX232424XX</td>\n",
       "      <td>MOTORISTA</td>\n",
       "      <td>Efetivo</td>\n",
       "      <td>PMJP - PREFEITURA MUNICIPAL DE JOÃO PESSOA</td>\n",
       "      <td>NaN</td>\n",
       "      <td>2009-01-01</td>\n",
       "      <td>1023.50</td>\n",
       "      <td>NaN</td>\n",
       "    </tr>\n",
       "    <tr>\n",
       "      <th>49</th>\n",
       "      <td>66063</td>\n",
       "      <td>ADALBERTO BEZERRA DA SILVA</td>\n",
       "      <td>XXX520474XX</td>\n",
       "      <td>MOTORISTA</td>\n",
       "      <td>Efetivo</td>\n",
       "      <td>PMJP - PREFEITURA MUNICIPAL DE JOÃO PESSOA</td>\n",
       "      <td>NaN</td>\n",
       "      <td>2009-01-01</td>\n",
       "      <td>505.98</td>\n",
       "      <td>NaN</td>\n",
       "    </tr>\n",
       "    <tr>\n",
       "      <th>50</th>\n",
       "      <td>59518</td>\n",
       "      <td>ADALBERTO CABRAL DOS SANTOS</td>\n",
       "      <td>XXX303674XX</td>\n",
       "      <td>VIGILANTE MUNICIPAL</td>\n",
       "      <td>Efetivo</td>\n",
       "      <td>FMS - FUNDO MUNICIPAL DE SAÚDE</td>\n",
       "      <td>FMS - FUNDO MUNICIPAL DE SAÚDE</td>\n",
       "      <td>2009-01-01</td>\n",
       "      <td>130.00</td>\n",
       "      <td>NaN</td>\n",
       "    </tr>\n",
       "    <tr>\n",
       "      <th>...</th>\n",
       "      <td>...</td>\n",
       "      <td>...</td>\n",
       "      <td>...</td>\n",
       "      <td>...</td>\n",
       "      <td>...</td>\n",
       "      <td>...</td>\n",
       "      <td>...</td>\n",
       "      <td>...</td>\n",
       "      <td>...</td>\n",
       "      <td>...</td>\n",
       "    </tr>\n",
       "    <tr>\n",
       "      <th>26019</th>\n",
       "      <td>50434</td>\n",
       "      <td>ZENILDA DE SOUZA BARRETO</td>\n",
       "      <td>XXX013504XX</td>\n",
       "      <td>PROFESSOR DA EDUCACAO BASICA II</td>\n",
       "      <td>Efetivo</td>\n",
       "      <td>PMJP - PREFEITURA MUNICIPAL DE JOÃO PESSOA</td>\n",
       "      <td>NaN</td>\n",
       "      <td>2009-12-01</td>\n",
       "      <td>1228.15</td>\n",
       "      <td>NaN</td>\n",
       "    </tr>\n",
       "    <tr>\n",
       "      <th>26021</th>\n",
       "      <td>54476</td>\n",
       "      <td>ZENILDA SANTOS COSTA</td>\n",
       "      <td>XXX140908XX</td>\n",
       "      <td>ENFERMEIRO-40</td>\n",
       "      <td>Efetivo</td>\n",
       "      <td>FMS - FUNDO MUNICIPAL DE SAÚDE</td>\n",
       "      <td>NaN</td>\n",
       "      <td>2009-12-01</td>\n",
       "      <td>330.00</td>\n",
       "      <td>NaN</td>\n",
       "    </tr>\n",
       "    <tr>\n",
       "      <th>26022</th>\n",
       "      <td>54476</td>\n",
       "      <td>ZENILDA SANTOS COSTA</td>\n",
       "      <td>XXX140908XX</td>\n",
       "      <td>ENFERMEIRO</td>\n",
       "      <td>Efetivo</td>\n",
       "      <td>PMJP - PREFEITURA MUNICIPAL DE JOÃO PESSOA</td>\n",
       "      <td>NaN</td>\n",
       "      <td>2009-12-01</td>\n",
       "      <td>895.73</td>\n",
       "      <td>NaN</td>\n",
       "    </tr>\n",
       "    <tr>\n",
       "      <th>26024</th>\n",
       "      <td>69893</td>\n",
       "      <td>ZENITE ALVES SANTOS</td>\n",
       "      <td>XXX640874XX</td>\n",
       "      <td>AUXILIAR DE ADMINISTRACAO</td>\n",
       "      <td>Efetivo</td>\n",
       "      <td>PMJP - PREFEITURA MUNICIPAL DE JOÃO PESSOA</td>\n",
       "      <td>NaN</td>\n",
       "      <td>2009-12-01</td>\n",
       "      <td>545.00</td>\n",
       "      <td>NaN</td>\n",
       "    </tr>\n",
       "    <tr>\n",
       "      <th>26025</th>\n",
       "      <td>69893</td>\n",
       "      <td>ZENITE ALVES SANTOS</td>\n",
       "      <td>XXX640874XX</td>\n",
       "      <td>AUXILIAR DE ADMINISTRACAO</td>\n",
       "      <td>Efetivo</td>\n",
       "      <td>FMS - FUNDO MUNICIPAL DE SAÚDE</td>\n",
       "      <td>NaN</td>\n",
       "      <td>2009-12-01</td>\n",
       "      <td>180.00</td>\n",
       "      <td>NaN</td>\n",
       "    </tr>\n",
       "    <tr>\n",
       "      <th>26027</th>\n",
       "      <td>76359</td>\n",
       "      <td>ZENO TARGINO MOREIRA FILHO</td>\n",
       "      <td>XXX849974XX</td>\n",
       "      <td>ESCRITURARIO</td>\n",
       "      <td>Efetivo</td>\n",
       "      <td>PMJP - PREFEITURA MUNICIPAL DE JOÃO PESSOA</td>\n",
       "      <td>NaN</td>\n",
       "      <td>2009-12-01</td>\n",
       "      <td>589.80</td>\n",
       "      <td>NaN</td>\n",
       "    </tr>\n",
       "    <tr>\n",
       "      <th>26029</th>\n",
       "      <td>78597</td>\n",
       "      <td>ZENOBIO FERNANDES RODRIGUES DE OLIVEIRA</td>\n",
       "      <td>XXX923064XX</td>\n",
       "      <td>MEDICO</td>\n",
       "      <td>Efetivo</td>\n",
       "      <td>PMJP - PREFEITURA MUNICIPAL DE JOÃO PESSOA</td>\n",
       "      <td>NaN</td>\n",
       "      <td>2009-12-01</td>\n",
       "      <td>7110.77</td>\n",
       "      <td>NaN</td>\n",
       "    </tr>\n",
       "    <tr>\n",
       "      <th>26032</th>\n",
       "      <td>53171</td>\n",
       "      <td>ZEZILDA MARIA DE OLIVEIRA CHAGAS FARIAS</td>\n",
       "      <td>XXX100504XX</td>\n",
       "      <td>AGENTE ADMINISTRATIVO</td>\n",
       "      <td>Efetivo</td>\n",
       "      <td>PMJP - PREFEITURA MUNICIPAL DE JOÃO PESSOA</td>\n",
       "      <td>NaN</td>\n",
       "      <td>2009-12-01</td>\n",
       "      <td>594.92</td>\n",
       "      <td>NaN</td>\n",
       "    </tr>\n",
       "    <tr>\n",
       "      <th>26037</th>\n",
       "      <td>52045</td>\n",
       "      <td>ZILDA JORGE DE LIMA</td>\n",
       "      <td>XXX067544XX</td>\n",
       "      <td>ORIENTADOR EDUCACIONAL</td>\n",
       "      <td>Efetivo</td>\n",
       "      <td>PMJP - PREFEITURA MUNICIPAL DE JOÃO PESSOA</td>\n",
       "      <td>NaN</td>\n",
       "      <td>2009-12-01</td>\n",
       "      <td>1409.10</td>\n",
       "      <td>NaN</td>\n",
       "    </tr>\n",
       "    <tr>\n",
       "      <th>26040</th>\n",
       "      <td>69338</td>\n",
       "      <td>ZILDA ROLIM DE SOUSA</td>\n",
       "      <td>XXX622994XX</td>\n",
       "      <td>TECNICO EM ENFERMAGEM-20</td>\n",
       "      <td>Efetivo</td>\n",
       "      <td>FMS - FUNDO MUNICIPAL DE SAÚDE</td>\n",
       "      <td>NaN</td>\n",
       "      <td>2009-12-01</td>\n",
       "      <td>180.00</td>\n",
       "      <td>NaN</td>\n",
       "    </tr>\n",
       "    <tr>\n",
       "      <th>26044</th>\n",
       "      <td>77873</td>\n",
       "      <td>ZILMA DE SOUZA</td>\n",
       "      <td>XXX898634XX</td>\n",
       "      <td>AGENTE COMUNITARIO DE SAUDE-CLT</td>\n",
       "      <td>Efetivo</td>\n",
       "      <td>FMS - FUNDO MUNICIPAL DE SAÚDE</td>\n",
       "      <td>FMS - FUNDO MUNICIPAL DE SAÚDE</td>\n",
       "      <td>2009-12-01</td>\n",
       "      <td>1085.00</td>\n",
       "      <td>NaN</td>\n",
       "    </tr>\n",
       "    <tr>\n",
       "      <th>26045</th>\n",
       "      <td>80004</td>\n",
       "      <td>ZILMA DOS SANTOS PADILHA</td>\n",
       "      <td>XXX966504XX</td>\n",
       "      <td>AGENTE D VIGILANCIA AMBIENTAL -PEVA</td>\n",
       "      <td>Efetivo</td>\n",
       "      <td>FMS - FUNDO MUNICIPAL DE SAÚDE</td>\n",
       "      <td>FMS - FUNDO MUNICIPAL DE SAÚDE</td>\n",
       "      <td>2009-12-01</td>\n",
       "      <td>970.00</td>\n",
       "      <td>NaN</td>\n",
       "    </tr>\n",
       "    <tr>\n",
       "      <th>26049</th>\n",
       "      <td>52912</td>\n",
       "      <td>ZITA ATANAZIO DE OLIVEIRA</td>\n",
       "      <td>XXX093374XX</td>\n",
       "      <td>ESCRITURARIO</td>\n",
       "      <td>Efetivo</td>\n",
       "      <td>FMS - FUNDO MUNICIPAL DE SAÚDE</td>\n",
       "      <td>NaN</td>\n",
       "      <td>2009-12-01</td>\n",
       "      <td>230.00</td>\n",
       "      <td>NaN</td>\n",
       "    </tr>\n",
       "    <tr>\n",
       "      <th>26050</th>\n",
       "      <td>52912</td>\n",
       "      <td>ZITA ATANAZIO DE OLIVEIRA</td>\n",
       "      <td>XXX093374XX</td>\n",
       "      <td>ESCRITURARIO</td>\n",
       "      <td>Efetivo</td>\n",
       "      <td>PMJP - PREFEITURA MUNICIPAL DE JOÃO PESSOA</td>\n",
       "      <td>NaN</td>\n",
       "      <td>2009-12-01</td>\n",
       "      <td>1004.92</td>\n",
       "      <td>NaN</td>\n",
       "    </tr>\n",
       "    <tr>\n",
       "      <th>26051</th>\n",
       "      <td>52912</td>\n",
       "      <td>ZITA ATANAZIO DE OLIVEIRA</td>\n",
       "      <td>XXX093374XX</td>\n",
       "      <td>ENFERMEIRO-20</td>\n",
       "      <td>Efetivo</td>\n",
       "      <td>FMS - FUNDO MUNICIPAL DE SAÚDE</td>\n",
       "      <td>NaN</td>\n",
       "      <td>2009-12-01</td>\n",
       "      <td>3810.42</td>\n",
       "      <td>NaN</td>\n",
       "    </tr>\n",
       "    <tr>\n",
       "      <th>26052</th>\n",
       "      <td>52912</td>\n",
       "      <td>ZITA ATANAZIO DE OLIVEIRA</td>\n",
       "      <td>XXX093374XX</td>\n",
       "      <td>ENFERMEIRO</td>\n",
       "      <td>Efetivo</td>\n",
       "      <td>PMJP - PREFEITURA MUNICIPAL DE JOÃO PESSOA</td>\n",
       "      <td>NaN</td>\n",
       "      <td>2009-12-01</td>\n",
       "      <td>1028.71</td>\n",
       "      <td>NaN</td>\n",
       "    </tr>\n",
       "    <tr>\n",
       "      <th>26053</th>\n",
       "      <td>61388</td>\n",
       "      <td>ZITA SIMOES GOMES</td>\n",
       "      <td>XXX367474XX</td>\n",
       "      <td>AUX. DE ENFERMAGEM-20</td>\n",
       "      <td>Efetivo</td>\n",
       "      <td>FMS - FUNDO MUNICIPAL DE SAÚDE</td>\n",
       "      <td>NaN</td>\n",
       "      <td>2009-12-01</td>\n",
       "      <td>180.00</td>\n",
       "      <td>NaN</td>\n",
       "    </tr>\n",
       "    <tr>\n",
       "      <th>26054</th>\n",
       "      <td>61388</td>\n",
       "      <td>ZITA SIMOES GOMES</td>\n",
       "      <td>XXX367474XX</td>\n",
       "      <td>AUX. DE ENFERMAGEM</td>\n",
       "      <td>Efetivo</td>\n",
       "      <td>PMJP - PREFEITURA MUNICIPAL DE JOÃO PESSOA</td>\n",
       "      <td>NaN</td>\n",
       "      <td>2009-12-01</td>\n",
       "      <td>626.20</td>\n",
       "      <td>NaN</td>\n",
       "    </tr>\n",
       "    <tr>\n",
       "      <th>26055</th>\n",
       "      <td>60634</td>\n",
       "      <td>ZITILA BRANDAO DE ASSIS</td>\n",
       "      <td>XXX342584XX</td>\n",
       "      <td>PROFESSOR DA EDUCACAO BASICA II</td>\n",
       "      <td>Efetivo</td>\n",
       "      <td>PMJP - PREFEITURA MUNICIPAL DE JOÃO PESSOA</td>\n",
       "      <td>NaN</td>\n",
       "      <td>2009-12-01</td>\n",
       "      <td>1860.90</td>\n",
       "      <td>NaN</td>\n",
       "    </tr>\n",
       "    <tr>\n",
       "      <th>26058</th>\n",
       "      <td>65080</td>\n",
       "      <td>ZONAIDE MARIA DE OLIVEIRA</td>\n",
       "      <td>XXX489424XX</td>\n",
       "      <td>TECNICO EM CONTABILIDADE</td>\n",
       "      <td>Efetivo</td>\n",
       "      <td>PMJP - PREFEITURA MUNICIPAL DE JOÃO PESSOA</td>\n",
       "      <td>NaN</td>\n",
       "      <td>2009-12-01</td>\n",
       "      <td>734.94</td>\n",
       "      <td>NaN</td>\n",
       "    </tr>\n",
       "    <tr>\n",
       "      <th>26062</th>\n",
       "      <td>72201</td>\n",
       "      <td>ZORILDA RANGEL DE FIGUEIREDO</td>\n",
       "      <td>XXX714384XX</td>\n",
       "      <td>PROFESSOR DA EDUCACAO BASICA I</td>\n",
       "      <td>Efetivo</td>\n",
       "      <td>PMJP - PREFEITURA MUNICIPAL DE JOÃO PESSOA</td>\n",
       "      <td>NaN</td>\n",
       "      <td>2009-12-01</td>\n",
       "      <td>1262.73</td>\n",
       "      <td>NaN</td>\n",
       "    </tr>\n",
       "    <tr>\n",
       "      <th>26065</th>\n",
       "      <td>54128</td>\n",
       "      <td>ZULEIDE ALMIRA DOS SANTOS</td>\n",
       "      <td>XXX129904XX</td>\n",
       "      <td>AGENTE COMUNITARIO DE SAUDE</td>\n",
       "      <td>Efetivo</td>\n",
       "      <td>FMS - FUNDO MUNICIPAL DE SAÚDE</td>\n",
       "      <td>FMS - FUNDO MUNICIPAL DE SAÚDE</td>\n",
       "      <td>2009-12-01</td>\n",
       "      <td>1338.16</td>\n",
       "      <td>NaN</td>\n",
       "    </tr>\n",
       "    <tr>\n",
       "      <th>26072</th>\n",
       "      <td>66101</td>\n",
       "      <td>ZULEIDE JOSE DE SOUZA</td>\n",
       "      <td>XXX521754XX</td>\n",
       "      <td>PROFESSOR DA EDUCACAO BASICA I</td>\n",
       "      <td>Efetivo</td>\n",
       "      <td>PMJP - PREFEITURA MUNICIPAL DE JOÃO PESSOA</td>\n",
       "      <td>NaN</td>\n",
       "      <td>2009-12-01</td>\n",
       "      <td>1409.10</td>\n",
       "      <td>NaN</td>\n",
       "    </tr>\n",
       "    <tr>\n",
       "      <th>26075</th>\n",
       "      <td>72979</td>\n",
       "      <td>ZULEIDE REGINA DE MELO</td>\n",
       "      <td>XXX740914XX</td>\n",
       "      <td>AGENTE LIMPEZA URBANA</td>\n",
       "      <td>Efetivo</td>\n",
       "      <td>EMLUR - AUTARQUIA ESPECIAL MUNICIPAL DE LIMPEZ...</td>\n",
       "      <td>NaN</td>\n",
       "      <td>2009-12-01</td>\n",
       "      <td>727.09</td>\n",
       "      <td>NaN</td>\n",
       "    </tr>\n",
       "    <tr>\n",
       "      <th>26077</th>\n",
       "      <td>80116</td>\n",
       "      <td>ZULEIDE TEODOSIO PESSOA</td>\n",
       "      <td>XXX969914XX</td>\n",
       "      <td>AUXILIAR DE SERVICOS DIVERSOS</td>\n",
       "      <td>Efetivo</td>\n",
       "      <td>PMJP - PREFEITURA MUNICIPAL DE JOÃO PESSOA</td>\n",
       "      <td>NaN</td>\n",
       "      <td>2009-12-01</td>\n",
       "      <td>628.68</td>\n",
       "      <td>NaN</td>\n",
       "    </tr>\n",
       "    <tr>\n",
       "      <th>26079</th>\n",
       "      <td>63996</td>\n",
       "      <td>ZULEINA MARTINS DE ARRUDA DE O</td>\n",
       "      <td>XXX454854XX</td>\n",
       "      <td>ORIENTADOR EDUCACIONAL</td>\n",
       "      <td>Efetivo</td>\n",
       "      <td>PMJP - PREFEITURA MUNICIPAL DE JOÃO PESSOA</td>\n",
       "      <td>NaN</td>\n",
       "      <td>2009-12-01</td>\n",
       "      <td>1860.89</td>\n",
       "      <td>NaN</td>\n",
       "    </tr>\n",
       "    <tr>\n",
       "      <th>26080</th>\n",
       "      <td>79461</td>\n",
       "      <td>ZULENEIDE FORMIGA PEREIRA DE ALENCAR</td>\n",
       "      <td>XXX949854XX</td>\n",
       "      <td>PROFESSOR DA EDUCACAO BASICA II</td>\n",
       "      <td>Efetivo</td>\n",
       "      <td>PMJP - PREFEITURA MUNICIPAL DE JOÃO PESSOA</td>\n",
       "      <td>NaN</td>\n",
       "      <td>2009-12-01</td>\n",
       "      <td>1537.01</td>\n",
       "      <td>NaN</td>\n",
       "    </tr>\n",
       "    <tr>\n",
       "      <th>26082</th>\n",
       "      <td>79623</td>\n",
       "      <td>ZULMIRA ERNESTINA PEREIRA LOPES</td>\n",
       "      <td>XXX954704XX</td>\n",
       "      <td>AUXILIAR DE ADMINISTRACAO</td>\n",
       "      <td>Efetivo</td>\n",
       "      <td>PMJP - PREFEITURA MUNICIPAL DE JOÃO PESSOA</td>\n",
       "      <td>NaN</td>\n",
       "      <td>2009-12-01</td>\n",
       "      <td>1244.92</td>\n",
       "      <td>NaN</td>\n",
       "    </tr>\n",
       "    <tr>\n",
       "      <th>26083</th>\n",
       "      <td>79623</td>\n",
       "      <td>ZULMIRA ERNESTINA PEREIRA LOPES</td>\n",
       "      <td>XXX954704XX</td>\n",
       "      <td>AUXILIAR DE ADMINISTRACAO</td>\n",
       "      <td>Efetivo</td>\n",
       "      <td>FMS - FUNDO MUNICIPAL DE SAÚDE</td>\n",
       "      <td>NaN</td>\n",
       "      <td>2009-12-01</td>\n",
       "      <td>230.00</td>\n",
       "      <td>NaN</td>\n",
       "    </tr>\n",
       "    <tr>\n",
       "      <th>26087</th>\n",
       "      <td>60900</td>\n",
       "      <td>ZUZEIDE PAULINO DOS SANTOS</td>\n",
       "      <td>XXX350884XX</td>\n",
       "      <td>REGENTE DE ENSINO</td>\n",
       "      <td>Efetivo</td>\n",
       "      <td>PMJP - PREFEITURA MUNICIPAL DE JOÃO PESSOA</td>\n",
       "      <td>NaN</td>\n",
       "      <td>2009-12-01</td>\n",
       "      <td>1354.88</td>\n",
       "      <td>NaN</td>\n",
       "    </tr>\n",
       "  </tbody>\n",
       "</table>\n",
       "<p>164418 rows × 10 columns</p>\n",
       "</div>"
      ],
      "text/plain": [
       "       id_servidor                                     nome          cpf  \\\n",
       "1            54964                  ABDON NUNES XAVIER NETO  XXX155044XX   \n",
       "2            66416                 ABEL CAVALCANTE DE SOUZA  XXX531444XX   \n",
       "4            59433              ABELARDO DA SILVA FERNANDES  XXX300974XX   \n",
       "6            50075                      ABGAIL SOARES LOPES  XXX000294XX   \n",
       "7            50075                      ABGAIL SOARES LOPES  XXX000294XX   \n",
       "8            56746          ABIGAIL EVANGELISTA T. DA SILVA  XXX212284XX   \n",
       "9            70112             ABIGAIL NIEDJA DE M SA BRAGA  XXX647554XX   \n",
       "14           67444  ABIONES FIGUEIREDO NASCIMENTO DE ARAUJO  XXX565434XX   \n",
       "15           73011                 ABRAAO ALVES DE CARVALHO  XXX742364XX   \n",
       "17           57928                 ABRAAO FORTUNATO PEREIRA  XXX250144XX   \n",
       "18           57928                 ABRAAO FORTUNATO PEREIRA  XXX250144XX   \n",
       "19           61643            ABRAAO SEVERINO BATISTA SILVA  XXX375314XX   \n",
       "20           64118                ACHILLES DE SOUZA ANDRADE  XXX458814XX   \n",
       "26           53887                    ADAILMA NUNES PEREIRA  XXX122584XX   \n",
       "27           53887                    ADAILMA NUNES PEREIRA  XXX122584XX   \n",
       "28           71723                    ADAILSON ALVES SABINO  XXX698584XX   \n",
       "30           79643            ADAILTON BERNADINO DOS SANTOS  XXX955474XX   \n",
       "31           58042                ADAILTON DE OLIVEIRA LIMA  XXX253764XX   \n",
       "33           60684                   ADAILTON LIMA DA SILVA  XXX343984XX   \n",
       "35           56913                   ADAILTON LINO FERREIRA  XXX217684XX   \n",
       "36           72807            ADAILTON LINO FERREIRA JUNIOR  XXX735104XX   \n",
       "37           72807            ADAILTON LINO FERREIRA JUNIOR  XXX735104XX   \n",
       "38           78621                   ADAILTON LOURENCO RUFO  XXX923784XX   \n",
       "39           68441              ADAILTON MARQUES DA ALMEIDA  XXX596594XX   \n",
       "43           56488               ADAILZA FIDELIS DOS SANTOS  XXX203774XX   \n",
       "44           67522             ADALBERTO ALVES ARAUJO FILHO  XXX567874XX   \n",
       "45           50903                 ADALBERTO ARAUJO PEREIRA  XXX029694XX   \n",
       "46           57344                 ADALBERTO BENTO PATRICIO  XXX232424XX   \n",
       "49           66063               ADALBERTO BEZERRA DA SILVA  XXX520474XX   \n",
       "50           59518              ADALBERTO CABRAL DOS SANTOS  XXX303674XX   \n",
       "...            ...                                      ...          ...   \n",
       "26019        50434                 ZENILDA DE SOUZA BARRETO  XXX013504XX   \n",
       "26021        54476                     ZENILDA SANTOS COSTA  XXX140908XX   \n",
       "26022        54476                     ZENILDA SANTOS COSTA  XXX140908XX   \n",
       "26024        69893                      ZENITE ALVES SANTOS  XXX640874XX   \n",
       "26025        69893                      ZENITE ALVES SANTOS  XXX640874XX   \n",
       "26027        76359               ZENO TARGINO MOREIRA FILHO  XXX849974XX   \n",
       "26029        78597  ZENOBIO FERNANDES RODRIGUES DE OLIVEIRA  XXX923064XX   \n",
       "26032        53171  ZEZILDA MARIA DE OLIVEIRA CHAGAS FARIAS  XXX100504XX   \n",
       "26037        52045                      ZILDA JORGE DE LIMA  XXX067544XX   \n",
       "26040        69338                     ZILDA ROLIM DE SOUSA  XXX622994XX   \n",
       "26044        77873                           ZILMA DE SOUZA  XXX898634XX   \n",
       "26045        80004                 ZILMA DOS SANTOS PADILHA  XXX966504XX   \n",
       "26049        52912                ZITA ATANAZIO DE OLIVEIRA  XXX093374XX   \n",
       "26050        52912                ZITA ATANAZIO DE OLIVEIRA  XXX093374XX   \n",
       "26051        52912                ZITA ATANAZIO DE OLIVEIRA  XXX093374XX   \n",
       "26052        52912                ZITA ATANAZIO DE OLIVEIRA  XXX093374XX   \n",
       "26053        61388                        ZITA SIMOES GOMES  XXX367474XX   \n",
       "26054        61388                        ZITA SIMOES GOMES  XXX367474XX   \n",
       "26055        60634                  ZITILA BRANDAO DE ASSIS  XXX342584XX   \n",
       "26058        65080                ZONAIDE MARIA DE OLIVEIRA  XXX489424XX   \n",
       "26062        72201             ZORILDA RANGEL DE FIGUEIREDO  XXX714384XX   \n",
       "26065        54128                ZULEIDE ALMIRA DOS SANTOS  XXX129904XX   \n",
       "26072        66101                    ZULEIDE JOSE DE SOUZA  XXX521754XX   \n",
       "26075        72979                   ZULEIDE REGINA DE MELO  XXX740914XX   \n",
       "26077        80116                  ZULEIDE TEODOSIO PESSOA  XXX969914XX   \n",
       "26079        63996           ZULEINA MARTINS DE ARRUDA DE O  XXX454854XX   \n",
       "26080        79461     ZULENEIDE FORMIGA PEREIRA DE ALENCAR  XXX949854XX   \n",
       "26082        79623          ZULMIRA ERNESTINA PEREIRA LOPES  XXX954704XX   \n",
       "26083        79623          ZULMIRA ERNESTINA PEREIRA LOPES  XXX954704XX   \n",
       "26087        60900               ZUZEIDE PAULINO DOS SANTOS  XXX350884XX   \n",
       "\n",
       "                                     cargo tipo_contratacao  \\\n",
       "1                               BIOQUIMICO          Efetivo   \n",
       "2                      VIGILANTE MUNICIPAL          Efetivo   \n",
       "4          PROFESSOR DA EDUCACAO BASICA II          Efetivo   \n",
       "6                       AUX. DE ENFERMAGEM          Efetivo   \n",
       "7               AUXILIAR DE ENFERMAGEM EFT          Efetivo   \n",
       "8                AUXILIAR DE ADMINISTRACAO          Efetivo   \n",
       "9           PROFESSOR DA EDUCACAO BASICA I          Efetivo   \n",
       "14                               SEM CARGO          Efetivo   \n",
       "15         PROFESSOR DA EDUCACAO BASICA II          Efetivo   \n",
       "17                TECNICO EM ENFERMAGEM-20          Efetivo   \n",
       "18                   TECNICO EM ENFERMAGEM          Efetivo   \n",
       "19                     VIGILANTE MUNICIPAL          Efetivo   \n",
       "20                   AGENTE LIMPEZA URBANA          Efetivo   \n",
       "26               AUXILIAR DE ADMINISTRACAO          Efetivo   \n",
       "27                             TELEFONISTA          Efetivo   \n",
       "28                   TECNICO EM ELETRONICA          Efetivo   \n",
       "30                   AGENTE LIMPEZA URBANA          Efetivo   \n",
       "31                   AGENTE LIMPEZA URBANA          Efetivo   \n",
       "33               AUXILIAR DE SERV DE OBRAS          Efetivo   \n",
       "35                             DENTISTA-20          Efetivo   \n",
       "36           AUXILIAR DE SERVICOS DIVERSOS          Efetivo   \n",
       "37                                OPERARIO          Efetivo   \n",
       "38     AGENTE D VIGILANCIA AMBIENTAL -PEVA          Efetivo   \n",
       "39                   AGENTE ADMINISTRATIVO          Efetivo   \n",
       "43                   TECNICO EM ENFERMAGEM          Efetivo   \n",
       "44                               ARQUITETO          Efetivo   \n",
       "45         PROFESSOR DA EDUCACAO BASICA II          Efetivo   \n",
       "46                               MOTORISTA          Efetivo   \n",
       "49                               MOTORISTA          Efetivo   \n",
       "50                     VIGILANTE MUNICIPAL          Efetivo   \n",
       "...                                    ...              ...   \n",
       "26019      PROFESSOR DA EDUCACAO BASICA II          Efetivo   \n",
       "26021                        ENFERMEIRO-40          Efetivo   \n",
       "26022                           ENFERMEIRO          Efetivo   \n",
       "26024            AUXILIAR DE ADMINISTRACAO          Efetivo   \n",
       "26025            AUXILIAR DE ADMINISTRACAO          Efetivo   \n",
       "26027                         ESCRITURARIO          Efetivo   \n",
       "26029                               MEDICO          Efetivo   \n",
       "26032                AGENTE ADMINISTRATIVO          Efetivo   \n",
       "26037               ORIENTADOR EDUCACIONAL          Efetivo   \n",
       "26040             TECNICO EM ENFERMAGEM-20          Efetivo   \n",
       "26044      AGENTE COMUNITARIO DE SAUDE-CLT          Efetivo   \n",
       "26045  AGENTE D VIGILANCIA AMBIENTAL -PEVA          Efetivo   \n",
       "26049                         ESCRITURARIO          Efetivo   \n",
       "26050                         ESCRITURARIO          Efetivo   \n",
       "26051                        ENFERMEIRO-20          Efetivo   \n",
       "26052                           ENFERMEIRO          Efetivo   \n",
       "26053                AUX. DE ENFERMAGEM-20          Efetivo   \n",
       "26054                   AUX. DE ENFERMAGEM          Efetivo   \n",
       "26055      PROFESSOR DA EDUCACAO BASICA II          Efetivo   \n",
       "26058             TECNICO EM CONTABILIDADE          Efetivo   \n",
       "26062       PROFESSOR DA EDUCACAO BASICA I          Efetivo   \n",
       "26065          AGENTE COMUNITARIO DE SAUDE          Efetivo   \n",
       "26072       PROFESSOR DA EDUCACAO BASICA I          Efetivo   \n",
       "26075                AGENTE LIMPEZA URBANA          Efetivo   \n",
       "26077        AUXILIAR DE SERVICOS DIVERSOS          Efetivo   \n",
       "26079               ORIENTADOR EDUCACIONAL          Efetivo   \n",
       "26080      PROFESSOR DA EDUCACAO BASICA II          Efetivo   \n",
       "26082            AUXILIAR DE ADMINISTRACAO          Efetivo   \n",
       "26083            AUXILIAR DE ADMINISTRACAO          Efetivo   \n",
       "26087                    REGENTE DE ENSINO          Efetivo   \n",
       "\n",
       "                                                entidade  \\\n",
       "1             PMJP - PREFEITURA MUNICIPAL DE JOÃO PESSOA   \n",
       "2             PMJP - PREFEITURA MUNICIPAL DE JOÃO PESSOA   \n",
       "4             PMJP - PREFEITURA MUNICIPAL DE JOÃO PESSOA   \n",
       "6             PMJP - PREFEITURA MUNICIPAL DE JOÃO PESSOA   \n",
       "7                         ICV - INSTITUTO CÂNDIDA VARGAS   \n",
       "8             PMJP - PREFEITURA MUNICIPAL DE JOÃO PESSOA   \n",
       "9             PMJP - PREFEITURA MUNICIPAL DE JOÃO PESSOA   \n",
       "14     IPM - INSTITUTO DE PREVIDÊNCIA DO MUNICÍPIO DE...   \n",
       "15            PMJP - PREFEITURA MUNICIPAL DE JOÃO PESSOA   \n",
       "17                        FMS - FUNDO MUNICIPAL DE SAÚDE   \n",
       "18            PMJP - PREFEITURA MUNICIPAL DE JOÃO PESSOA   \n",
       "19            PMJP - PREFEITURA MUNICIPAL DE JOÃO PESSOA   \n",
       "20     EMLUR - AUTARQUIA ESPECIAL MUNICIPAL DE LIMPEZ...   \n",
       "26                        FMS - FUNDO MUNICIPAL DE SAÚDE   \n",
       "27            PMJP - PREFEITURA MUNICIPAL DE JOÃO PESSOA   \n",
       "28            PMJP - PREFEITURA MUNICIPAL DE JOÃO PESSOA   \n",
       "30     EMLUR - AUTARQUIA ESPECIAL MUNICIPAL DE LIMPEZ...   \n",
       "31     EMLUR - AUTARQUIA ESPECIAL MUNICIPAL DE LIMPEZ...   \n",
       "33            PMJP - PREFEITURA MUNICIPAL DE JOÃO PESSOA   \n",
       "35                        FMS - FUNDO MUNICIPAL DE SAÚDE   \n",
       "36            PMJP - PREFEITURA MUNICIPAL DE JOÃO PESSOA   \n",
       "37            PMJP - PREFEITURA MUNICIPAL DE JOÃO PESSOA   \n",
       "38                        FMS - FUNDO MUNICIPAL DE SAÚDE   \n",
       "39            PMJP - PREFEITURA MUNICIPAL DE JOÃO PESSOA   \n",
       "43            PMJP - PREFEITURA MUNICIPAL DE JOÃO PESSOA   \n",
       "44     STTRANS - SUPERINTENDENCIA DE TRANSPORTES E TR...   \n",
       "45            PMJP - PREFEITURA MUNICIPAL DE JOÃO PESSOA   \n",
       "46            PMJP - PREFEITURA MUNICIPAL DE JOÃO PESSOA   \n",
       "49            PMJP - PREFEITURA MUNICIPAL DE JOÃO PESSOA   \n",
       "50                        FMS - FUNDO MUNICIPAL DE SAÚDE   \n",
       "...                                                  ...   \n",
       "26019         PMJP - PREFEITURA MUNICIPAL DE JOÃO PESSOA   \n",
       "26021                     FMS - FUNDO MUNICIPAL DE SAÚDE   \n",
       "26022         PMJP - PREFEITURA MUNICIPAL DE JOÃO PESSOA   \n",
       "26024         PMJP - PREFEITURA MUNICIPAL DE JOÃO PESSOA   \n",
       "26025                     FMS - FUNDO MUNICIPAL DE SAÚDE   \n",
       "26027         PMJP - PREFEITURA MUNICIPAL DE JOÃO PESSOA   \n",
       "26029         PMJP - PREFEITURA MUNICIPAL DE JOÃO PESSOA   \n",
       "26032         PMJP - PREFEITURA MUNICIPAL DE JOÃO PESSOA   \n",
       "26037         PMJP - PREFEITURA MUNICIPAL DE JOÃO PESSOA   \n",
       "26040                     FMS - FUNDO MUNICIPAL DE SAÚDE   \n",
       "26044                     FMS - FUNDO MUNICIPAL DE SAÚDE   \n",
       "26045                     FMS - FUNDO MUNICIPAL DE SAÚDE   \n",
       "26049                     FMS - FUNDO MUNICIPAL DE SAÚDE   \n",
       "26050         PMJP - PREFEITURA MUNICIPAL DE JOÃO PESSOA   \n",
       "26051                     FMS - FUNDO MUNICIPAL DE SAÚDE   \n",
       "26052         PMJP - PREFEITURA MUNICIPAL DE JOÃO PESSOA   \n",
       "26053                     FMS - FUNDO MUNICIPAL DE SAÚDE   \n",
       "26054         PMJP - PREFEITURA MUNICIPAL DE JOÃO PESSOA   \n",
       "26055         PMJP - PREFEITURA MUNICIPAL DE JOÃO PESSOA   \n",
       "26058         PMJP - PREFEITURA MUNICIPAL DE JOÃO PESSOA   \n",
       "26062         PMJP - PREFEITURA MUNICIPAL DE JOÃO PESSOA   \n",
       "26065                     FMS - FUNDO MUNICIPAL DE SAÚDE   \n",
       "26072         PMJP - PREFEITURA MUNICIPAL DE JOÃO PESSOA   \n",
       "26075  EMLUR - AUTARQUIA ESPECIAL MUNICIPAL DE LIMPEZ...   \n",
       "26077         PMJP - PREFEITURA MUNICIPAL DE JOÃO PESSOA   \n",
       "26079         PMJP - PREFEITURA MUNICIPAL DE JOÃO PESSOA   \n",
       "26080         PMJP - PREFEITURA MUNICIPAL DE JOÃO PESSOA   \n",
       "26082         PMJP - PREFEITURA MUNICIPAL DE JOÃO PESSOA   \n",
       "26083                     FMS - FUNDO MUNICIPAL DE SAÚDE   \n",
       "26087         PMJP - PREFEITURA MUNICIPAL DE JOÃO PESSOA   \n",
       "\n",
       "                                      unidade data_pagamento  valor_total  \\\n",
       "1                                         NaN     2009-01-01      1119.47   \n",
       "2            MANUTENCAO DOS SERVICOS PESSOAL      2009-01-01       830.14   \n",
       "4                                         NaN     2009-01-01      1387.03   \n",
       "6                                         NaN     2009-01-01       560.74   \n",
       "7                    INSTITUTO CANDIDA VARGAS     2009-01-01       400.00   \n",
       "8                                         NaN     2009-01-01       518.17   \n",
       "9                                         NaN     2009-01-01      1977.81   \n",
       "14                                        IPM     2009-01-01      1000.00   \n",
       "15                                        NaN     2009-01-01      1024.97   \n",
       "17             FMS - FUNDO MUNICIPAL DE SAÚDE     2009-01-01       180.00   \n",
       "18     ENCARGOS COM O PESSOAL ATIVO DA SA+DE      2009-01-01       576.07   \n",
       "19           MANUTENCAO DOS SERVICOS PESSOAL      2009-01-01       797.58   \n",
       "20                                        NaN     2009-01-01       669.51   \n",
       "26             FMS - FUNDO MUNICIPAL DE SAÚDE     2009-01-01       150.00   \n",
       "27                                        NaN     2009-01-01       713.33   \n",
       "28                                        NaN     2009-01-01       741.20   \n",
       "30                                        NaN     2009-01-01       669.51   \n",
       "31                                        NaN     2009-01-01       708.28   \n",
       "33                                        NaN     2009-01-01       544.71   \n",
       "35                                        NaN     2009-01-01       300.00   \n",
       "36                                        NaN     2009-01-01       706.06   \n",
       "37                                        NaN     2009-01-01       716.12   \n",
       "38             FMS - FUNDO MUNICIPAL DE SAÚDE     2009-01-01       440.44   \n",
       "39                                        NaN     2009-01-01       701.18   \n",
       "43                                        NaN     2009-01-01       610.21   \n",
       "44                                        NaN     2009-01-01      6719.40   \n",
       "45                                        NaN     2009-01-01      1407.68   \n",
       "46                                        NaN     2009-01-01      1023.50   \n",
       "49                                        NaN     2009-01-01       505.98   \n",
       "50             FMS - FUNDO MUNICIPAL DE SAÚDE     2009-01-01       130.00   \n",
       "...                                       ...            ...          ...   \n",
       "26019                                     NaN     2009-12-01      1228.15   \n",
       "26021                                     NaN     2009-12-01       330.00   \n",
       "26022                                     NaN     2009-12-01       895.73   \n",
       "26024                                     NaN     2009-12-01       545.00   \n",
       "26025                                     NaN     2009-12-01       180.00   \n",
       "26027                                     NaN     2009-12-01       589.80   \n",
       "26029                                     NaN     2009-12-01      7110.77   \n",
       "26032                                     NaN     2009-12-01       594.92   \n",
       "26037                                     NaN     2009-12-01      1409.10   \n",
       "26040                                     NaN     2009-12-01       180.00   \n",
       "26044          FMS - FUNDO MUNICIPAL DE SAÚDE     2009-12-01      1085.00   \n",
       "26045          FMS - FUNDO MUNICIPAL DE SAÚDE     2009-12-01       970.00   \n",
       "26049                                     NaN     2009-12-01       230.00   \n",
       "26050                                     NaN     2009-12-01      1004.92   \n",
       "26051                                     NaN     2009-12-01      3810.42   \n",
       "26052                                     NaN     2009-12-01      1028.71   \n",
       "26053                                     NaN     2009-12-01       180.00   \n",
       "26054                                     NaN     2009-12-01       626.20   \n",
       "26055                                     NaN     2009-12-01      1860.90   \n",
       "26058                                     NaN     2009-12-01       734.94   \n",
       "26062                                     NaN     2009-12-01      1262.73   \n",
       "26065          FMS - FUNDO MUNICIPAL DE SAÚDE     2009-12-01      1338.16   \n",
       "26072                                     NaN     2009-12-01      1409.10   \n",
       "26075                                     NaN     2009-12-01       727.09   \n",
       "26077                                     NaN     2009-12-01       628.68   \n",
       "26079                                     NaN     2009-12-01      1860.89   \n",
       "26080                                     NaN     2009-12-01      1537.01   \n",
       "26082                                     NaN     2009-12-01      1244.92   \n",
       "26083                                     NaN     2009-12-01       230.00   \n",
       "26087                                     NaN     2009-12-01      1354.88   \n",
       "\n",
       "       valor_liquido  \n",
       "1                NaN  \n",
       "2                NaN  \n",
       "4                NaN  \n",
       "6                NaN  \n",
       "7                NaN  \n",
       "8                NaN  \n",
       "9                NaN  \n",
       "14               NaN  \n",
       "15               NaN  \n",
       "17               NaN  \n",
       "18               NaN  \n",
       "19               NaN  \n",
       "20               NaN  \n",
       "26               NaN  \n",
       "27               NaN  \n",
       "28               NaN  \n",
       "30               NaN  \n",
       "31               NaN  \n",
       "33               NaN  \n",
       "35               NaN  \n",
       "36               NaN  \n",
       "37               NaN  \n",
       "38               NaN  \n",
       "39               NaN  \n",
       "43               NaN  \n",
       "44               NaN  \n",
       "45               NaN  \n",
       "46               NaN  \n",
       "49               NaN  \n",
       "50               NaN  \n",
       "...              ...  \n",
       "26019            NaN  \n",
       "26021            NaN  \n",
       "26022            NaN  \n",
       "26024            NaN  \n",
       "26025            NaN  \n",
       "26027            NaN  \n",
       "26029            NaN  \n",
       "26032            NaN  \n",
       "26037            NaN  \n",
       "26040            NaN  \n",
       "26044            NaN  \n",
       "26045            NaN  \n",
       "26049            NaN  \n",
       "26050            NaN  \n",
       "26051            NaN  \n",
       "26052            NaN  \n",
       "26053            NaN  \n",
       "26054            NaN  \n",
       "26055            NaN  \n",
       "26058            NaN  \n",
       "26062            NaN  \n",
       "26065            NaN  \n",
       "26072            NaN  \n",
       "26075            NaN  \n",
       "26077            NaN  \n",
       "26079            NaN  \n",
       "26080            NaN  \n",
       "26082            NaN  \n",
       "26083            NaN  \n",
       "26087            NaN  \n",
       "\n",
       "[164418 rows x 10 columns]"
      ]
     },
     "execution_count": 99,
     "metadata": {},
     "output_type": "execute_result"
    }
   ],
   "source": [
    "ano_2009_total.loc[ano_2009_total['tipo_contratacao'] == 'Efetivo']"
   ]
  },
  {
   "cell_type": "code",
   "execution_count": 100,
   "metadata": {},
   "outputs": [
    {
     "data": {
      "text/plain": [
       "Efetivo                                          164418\n",
       "Contratação por excepcional interesse público    113931\n",
       "Inativos / Pensionistas                           40254\n",
       "Comissionado                                      12960\n",
       "À disposição                                       2375\n",
       "Função de confiança                                  60\n",
       "Eletivo                                              24\n",
       "Name: tipo_contratacao, dtype: int64"
      ]
     },
     "execution_count": 100,
     "metadata": {},
     "output_type": "execute_result"
    }
   ],
   "source": [
    "ano_2009_total['tipo_contratacao'].value_counts()"
   ]
  },
  {
   "cell_type": "code",
   "execution_count": 101,
   "metadata": {},
   "outputs": [],
   "source": [
    "efetivo_2009 = ano_2009_total.loc[ano_2009_total['tipo_contratacao'] == 'Efetivo']"
   ]
  },
  {
   "cell_type": "code",
   "execution_count": 102,
   "metadata": {},
   "outputs": [],
   "source": [
    "efetivo_2010 = ano_2010_total.loc[ano_2010_total['tipo_contratacao'] == 'Efetivo']\n",
    "efetivo_2011 = ano_2011_total.loc[ano_2011_total['tipo_contratacao'] == 'Efetivo']\n",
    "efetivo_2012 = ano_2012_total.loc[ano_2012_total['tipo_contratacao'] == 'Efetivo']\n",
    "efetivo_2013 = ano_2013_total.loc[ano_2013_total['tipo_contratacao'] == 'Efetivo']\n",
    "efetivo_2014 = ano_2014_total.loc[ano_2014_total['tipo_contratacao'] == 'Efetivo']\n",
    "efetivo_2015 = ano_2015_total.loc[ano_2015_total['tipo_contratacao'] == 'Efetivo']\n",
    "efetivo_2016 = ano_2016_total.loc[ano_2016_total['tipo_contratacao'] == 'Efetivo']\n",
    "efetivo_2017 = ano_2017_total.loc[ano_2017_total['tipo_contratacao'] == 'Efetivo']\n",
    "efetivo_2018 = ano_2018_total.loc[ano_2018_total['tipo_contratacao'] == 'Efetivo']"
   ]
  },
  {
   "cell_type": "code",
   "execution_count": 103,
   "metadata": {},
   "outputs": [],
   "source": [
    "efetivo_2009_contra = ano_2009_total.loc[ano_2009_total['tipo_contratacao'] == 'Contratação por excepcional interesse público']\n",
    "efetivo_2010_contra = ano_2010_total.loc[ano_2010_total['tipo_contratacao'] == 'Contratação por excepcional interesse público']\n",
    "efetivo_2011_contra = ano_2011_total.loc[ano_2011_total['tipo_contratacao'] == 'Contratação por excepcional interesse público']\n",
    "efetivo_2012_contra = ano_2012_total.loc[ano_2012_total['tipo_contratacao'] == 'Contratação por excepcional interesse público']\n",
    "efetivo_2013_contra = ano_2013_total.loc[ano_2013_total['tipo_contratacao'] == 'Contratação por excepcional interesse público']\n",
    "efetivo_2014_contra = ano_2014_total.loc[ano_2014_total['tipo_contratacao'] == 'Contratação por excepcional interesse público']\n",
    "efetivo_2015_contra = ano_2015_total.loc[ano_2015_total['tipo_contratacao'] == 'Contratação por excepcional interesse público']\n",
    "efetivo_2016_contra = ano_2016_total.loc[ano_2016_total['tipo_contratacao'] == 'Contratação por excepcional interesse público']\n",
    "efetivo_2017_contra = ano_2017_total.loc[ano_2017_total['tipo_contratacao'] == 'Contratação por excepcional interesse público']\n",
    "efetivo_2018_contra = ano_2018_total.loc[ano_2018_total['tipo_contratacao'] == 'Contratação por excepcional interesse público']"
   ]
  },
  {
   "cell_type": "code",
   "execution_count": 104,
   "metadata": {},
   "outputs": [],
   "source": [
    "efetivo_2009_commi = ano_2009_total.loc[ano_2009_total['tipo_contratacao'] == 'Comissionado']\n",
    "efetivo_2010_commi = ano_2010_total.loc[ano_2010_total['tipo_contratacao'] == 'Comissionado']\n",
    "efetivo_2011_commi = ano_2011_total.loc[ano_2011_total['tipo_contratacao'] == 'Comissionado']\n",
    "efetivo_2012_commi = ano_2012_total.loc[ano_2012_total['tipo_contratacao'] == 'Comissionado']\n",
    "efetivo_2013_commi = ano_2013_total.loc[ano_2013_total['tipo_contratacao'] == 'Comissionado']\n",
    "efetivo_2014_commi = ano_2014_total.loc[ano_2014_total['tipo_contratacao'] == 'Comissionado']\n",
    "efetivo_2015_commi = ano_2015_total.loc[ano_2015_total['tipo_contratacao'] == 'Comissionado']\n",
    "efetivo_2016_commi = ano_2016_total.loc[ano_2016_total['tipo_contratacao'] == 'Comissionado']\n",
    "efetivo_2017_commi = ano_2017_total.loc[ano_2017_total['tipo_contratacao'] == 'Comissionado']\n",
    "efetivo_2018_commi = ano_2018_total.loc[ano_2018_total['tipo_contratacao'] == 'Comissionado']"
   ]
  },
  {
   "cell_type": "code",
   "execution_count": 105,
   "metadata": {},
   "outputs": [],
   "source": [
    "efetivo_2009_adispo = ano_2009_total.loc[ano_2009_total['tipo_contratacao'] == 'À disposição']\n",
    "efetivo_2010_adispo = ano_2010_total.loc[ano_2010_total['tipo_contratacao'] == 'À disposição']\n",
    "efetivo_2011_adispo = ano_2011_total.loc[ano_2011_total['tipo_contratacao'] == 'À disposição']\n",
    "efetivo_2012_adispo = ano_2012_total.loc[ano_2012_total['tipo_contratacao'] == 'À disposição']\n",
    "efetivo_2013_adispo = ano_2013_total.loc[ano_2013_total['tipo_contratacao'] == 'À disposição']\n",
    "efetivo_2014_adispo = ano_2014_total.loc[ano_2014_total['tipo_contratacao'] == 'À disposição']\n",
    "efetivo_2015_adispo = ano_2015_total.loc[ano_2015_total['tipo_contratacao'] == 'À disposição']\n",
    "efetivo_2016_adispo = ano_2016_total.loc[ano_2016_total['tipo_contratacao'] == 'À disposição']\n",
    "efetivo_2017_adispo = ano_2017_total.loc[ano_2017_total['tipo_contratacao'] == 'À disposição']\n",
    "efetivo_2018_adispo = ano_2018_total.loc[ano_2018_total['tipo_contratacao'] == 'À disposição']"
   ]
  },
  {
   "cell_type": "code",
   "execution_count": 106,
   "metadata": {},
   "outputs": [],
   "source": [
    "efetivo_2009_funco = ano_2009_total.loc[ano_2009_total['tipo_contratacao'] == 'Função de confiança']\n",
    "efetivo_2010_funco = ano_2010_total.loc[ano_2010_total['tipo_contratacao'] == 'Função de confiança']\n",
    "efetivo_2011_funco = ano_2011_total.loc[ano_2011_total['tipo_contratacao'] == 'Função de confiança']\n",
    "efetivo_2012_funco = ano_2012_total.loc[ano_2012_total['tipo_contratacao'] == 'Função de confiança']\n",
    "efetivo_2013_funco = ano_2013_total.loc[ano_2013_total['tipo_contratacao'] == 'Função de confiança']\n",
    "efetivo_2014_funco = ano_2014_total.loc[ano_2014_total['tipo_contratacao'] == 'Função de confiança']\n",
    "efetivo_2015_funco = ano_2015_total.loc[ano_2015_total['tipo_contratacao'] == 'Função de confiança']\n",
    "efetivo_2016_funco = ano_2016_total.loc[ano_2016_total['tipo_contratacao'] == 'Função de confiança']\n",
    "efetivo_2017_funco = ano_2017_total.loc[ano_2017_total['tipo_contratacao'] == 'Função de confiança']\n",
    "efetivo_2018_funco = ano_2018_total.loc[ano_2018_total['tipo_contratacao'] == 'Função de confiança']"
   ]
  },
  {
   "cell_type": "code",
   "execution_count": 107,
   "metadata": {},
   "outputs": [],
   "source": [
    "efetivo_2009_eleti = ano_2009_total.loc[ano_2009_total['tipo_contratacao'] == 'Eletivo']\n",
    "efetivo_2010_eleti = ano_2010_total.loc[ano_2010_total['tipo_contratacao'] == 'Eletivo']\n",
    "efetivo_2011_eleti = ano_2011_total.loc[ano_2011_total['tipo_contratacao'] == 'Eletivo']\n",
    "efetivo_2012_eleti = ano_2012_total.loc[ano_2012_total['tipo_contratacao'] == 'Eletivo']\n",
    "efetivo_2013_eleti = ano_2013_total.loc[ano_2013_total['tipo_contratacao'] == 'Eletivo']\n",
    "efetivo_2014_eleti = ano_2014_total.loc[ano_2014_total['tipo_contratacao'] == 'Eletivo']\n",
    "efetivo_2015_eleti = ano_2015_total.loc[ano_2015_total['tipo_contratacao'] == 'Eletivo']\n",
    "efetivo_2016_eleti = ano_2016_total.loc[ano_2016_total['tipo_contratacao'] == 'Eletivo']\n",
    "efetivo_2017_eleti = ano_2017_total.loc[ano_2017_total['tipo_contratacao'] == 'Eletivo']\n",
    "efetivo_2018_eleti = ano_2018_total.loc[ano_2018_total['tipo_contratacao'] == 'Eletivo']"
   ]
  },
  {
   "cell_type": "code",
   "execution_count": 108,
   "metadata": {},
   "outputs": [],
   "source": [
    "pensio_2009 = ano_2009_total.loc[ano_2009_total['tipo_contratacao'] == 'Inativos / Pensionistas']\n",
    "pensio_2010 = ano_2010_total.loc[ano_2010_total['tipo_contratacao'] == 'Inativos / Pensionistas']\n",
    "pensio_2011 = ano_2011_total.loc[ano_2011_total['tipo_contratacao'] == 'Inativos / Pensionistas']\n",
    "pensio_2012 = ano_2012_total.loc[ano_2012_total['tipo_contratacao'] == 'Inativos / Pensionistas']\n",
    "pensio_2013 = ano_2013_total.loc[ano_2013_total['tipo_contratacao'] == 'Inativos / Pensionistas']\n",
    "pensio_2014 = ano_2014_total.loc[ano_2014_total['tipo_contratacao'] == 'Inativos / Pensionistas']\n",
    "pensio_2015 = ano_2015_total.loc[ano_2015_total['tipo_contratacao'] == 'Inativos / Pensionistas']\n",
    "pensio_2016 = ano_2016_total.loc[ano_2016_total['tipo_contratacao'] == 'Inativos / Pensionistas']\n",
    "pensio_2017 = ano_2017_total.loc[ano_2017_total['tipo_contratacao'] == 'Inativos / Pensionistas']\n",
    "pensio_2018 = ano_2018_total.loc[ano_2018_total['tipo_contratacao'] == 'Inativos / Pensionistas']"
   ]
  },
  {
   "cell_type": "code",
   "execution_count": 109,
   "metadata": {},
   "outputs": [],
   "source": [
    "efetivo_2009_soma = efetivo_2009['valor_total'].sum()\n",
    "efetivo_2010_soma = efetivo_2010['valor_total'].sum()\n",
    "efetivo_2011_soma = efetivo_2011['valor_total'].sum()\n",
    "efetivo_2012_soma = efetivo_2012['valor_total'].sum()\n",
    "efetivo_2013_soma = efetivo_2013['valor_total'].sum()\n",
    "efetivo_2014_soma = efetivo_2014['valor_total'].sum()\n",
    "efetivo_2015_soma = efetivo_2015['valor_total'].sum()\n",
    "efetivo_2016_soma = efetivo_2016['valor_total'].sum()\n",
    "efetivo_2017_soma = efetivo_2017['valor_total'].sum()\n",
    "efetivo_2018_soma = efetivo_2018['valor_total'].sum()"
   ]
  },
  {
   "cell_type": "code",
   "execution_count": 110,
   "metadata": {},
   "outputs": [],
   "source": [
    "contra_2009_soma = efetivo_2009_contra['valor_total'].sum()\n",
    "contra_2010_soma = efetivo_2010_contra['valor_total'].sum()\n",
    "contra_2011_soma = efetivo_2011_contra['valor_total'].sum()\n",
    "contra_2012_soma = efetivo_2012_contra['valor_total'].sum()\n",
    "contra_2013_soma = efetivo_2013_contra['valor_total'].sum()\n",
    "contra_2014_soma = efetivo_2014_contra['valor_total'].sum()\n",
    "contra_2015_soma = efetivo_2015_contra['valor_total'].sum()\n",
    "contra_2016_soma = efetivo_2016_contra['valor_total'].sum()\n",
    "contra_2017_soma = efetivo_2017_contra['valor_total'].sum()\n",
    "contra_2018_soma = efetivo_2018_contra['valor_total'].sum()"
   ]
  },
  {
   "cell_type": "code",
   "execution_count": 111,
   "metadata": {},
   "outputs": [],
   "source": [
    "comi_2009_soma = efetivo_2009_commi['valor_total'].sum()\n",
    "comi_2010_soma = efetivo_2010_commi['valor_total'].sum()\n",
    "comi_2011_soma =efetivo_2011_commi['valor_total'].sum()\n",
    "comi_2012_soma = efetivo_2012_commi['valor_total'].sum()\n",
    "comi_2013_soma = efetivo_2013_commi['valor_total'].sum()\n",
    "comi_2014_soma = efetivo_2014_commi['valor_total'].sum()\n",
    "comi_2015_soma = efetivo_2015_commi['valor_total'].sum()\n",
    "comi_2016_soma = efetivo_2016_commi['valor_total'].sum()\n",
    "comi_2017_soma = efetivo_2017_commi['valor_total'].sum()\n",
    "comi_2018_soma = efetivo_2018_commi['valor_total'].sum()"
   ]
  },
  {
   "cell_type": "code",
   "execution_count": 112,
   "metadata": {},
   "outputs": [],
   "source": [
    "adispo_2009_soma = efetivo_2009_adispo['valor_total'].sum()\n",
    "adispo_2010_soma = efetivo_2010_adispo['valor_total'].sum()\n",
    "adispo_2011_soma =efetivo_2011_adispo['valor_total'].sum()\n",
    "adispo_2012_soma = efetivo_2012_adispo['valor_total'].sum()\n",
    "adispo_2013_soma = efetivo_2013_adispo['valor_total'].sum()\n",
    "adispo_2014_soma = efetivo_2014_adispo['valor_total'].sum()\n",
    "adispo_2015_soma = efetivo_2015_adispo['valor_total'].sum()\n",
    "adispo_2016_soma = efetivo_2016_adispo['valor_total'].sum()\n",
    "adispo_2017_soma = efetivo_2017_adispo['valor_total'].sum()\n",
    "adispo_2018_soma = efetivo_2018_adispo['valor_total'].sum()"
   ]
  },
  {
   "cell_type": "code",
   "execution_count": 113,
   "metadata": {},
   "outputs": [],
   "source": [
    "funco_2009_soma = efetivo_2009_funco['valor_total'].sum()\n",
    "funco_2010_soma = efetivo_2010_funco['valor_total'].sum()\n",
    "funco_2011_soma =efetivo_2011_funco['valor_total'].sum()\n",
    "funco_2012_soma = efetivo_2012_funco['valor_total'].sum()\n",
    "funco_2013_soma = efetivo_2013_funco['valor_total'].sum()\n",
    "funco_2014_soma = efetivo_2014_funco['valor_total'].sum()\n",
    "funco_2015_soma = efetivo_2015_funco['valor_total'].sum()\n",
    "funco_2016_soma = efetivo_2016_funco['valor_total'].sum()\n",
    "funco_2017_soma = efetivo_2017_funco['valor_total'].sum()\n",
    "funco_2018_soma = efetivo_2018_funco['valor_total'].sum()"
   ]
  },
  {
   "cell_type": "code",
   "execution_count": 114,
   "metadata": {},
   "outputs": [],
   "source": [
    "eleti_2009_soma = efetivo_2009_eleti['valor_total'].sum()\n",
    "eleti_2010_soma = efetivo_2010_eleti['valor_total'].sum()\n",
    "eleti_2011_soma =efetivo_2011_eleti['valor_total'].sum()\n",
    "eleti_2012_soma = efetivo_2012_eleti['valor_total'].sum()\n",
    "eleti_2013_soma = efetivo_2013_eleti['valor_total'].sum()\n",
    "eleti_2014_soma = efetivo_2014_eleti['valor_total'].sum()\n",
    "eleti_2015_soma = efetivo_2015_eleti['valor_total'].sum()\n",
    "eleti_2016_soma = efetivo_2016_eleti['valor_total'].sum()\n",
    "eleti_2017_soma = efetivo_2017_eleti['valor_total'].sum()\n",
    "eleti_2018_soma = efetivo_2018_eleti['valor_total'].sum()"
   ]
  },
  {
   "cell_type": "code",
   "execution_count": 115,
   "metadata": {},
   "outputs": [],
   "source": [
    "pensio_2009_total = pensio_2009['valor_total'].sum()\n",
    "pensio_2010_total = pensio_2010['valor_total'].sum()\n",
    "pensio_2011_total = pensio_2011['valor_total'].sum()\n",
    "pensio_2012_total = pensio_2012['valor_total'].sum()\n",
    "pensio_2013_total = pensio_2013['valor_total'].sum()\n",
    "pensio_2014_total = pensio_2014['valor_total'].sum()\n",
    "pensio_2015_total= pensio_2015['valor_total'].sum()\n",
    "pensio_2016_total = pensio_2016['valor_total'].sum()\n",
    "pensio_2017_total = pensio_2017['valor_total'].sum()\n",
    "pensio_2018_total = pensio_2018['valor_total'].sum()"
   ]
  },
  {
   "cell_type": "code",
   "execution_count": 116,
   "metadata": {},
   "outputs": [],
   "source": [
    "efetivos =  [efetivo_2009_soma, efetivo_2010_soma, efetivo_2011_soma,efetivo_2012_soma,efetivo_2013_soma,efetivo_2014_soma,efetivo_2015_soma,efetivo_2016_soma,efetivo_2017_soma, efetivo_2018_soma]"
   ]
  },
  {
   "cell_type": "code",
   "execution_count": 117,
   "metadata": {},
   "outputs": [],
   "source": [
    "contra = [contra_2009_soma, contra_2010_soma, contra_2011_soma,contra_2012_soma,contra_2013_soma,contra_2014_soma,contra_2015_soma,contra_2016_soma,contra_2017_soma, contra_2018_soma]"
   ]
  },
  {
   "cell_type": "code",
   "execution_count": 118,
   "metadata": {},
   "outputs": [],
   "source": [
    "comissionado = [comi_2009_soma, comi_2010_soma, comi_2011_soma,comi_2012_soma,comi_2013_soma,comi_2014_soma,comi_2015_soma,comi_2016_soma,comi_2017_soma, comi_2018_soma]"
   ]
  },
  {
   "cell_type": "code",
   "execution_count": 119,
   "metadata": {},
   "outputs": [],
   "source": [
    "adispo = [adispo_2009_soma, adispo_2010_soma, adispo_2011_soma,adispo_2012_soma,adispo_2013_soma,adispo_2014_soma,adispo_2015_soma,adispo_2016_soma,adispo_2017_soma, adispo_2018_soma]"
   ]
  },
  {
   "cell_type": "code",
   "execution_count": 120,
   "metadata": {},
   "outputs": [],
   "source": [
    "funco = [funco_2009_soma, funco_2010_soma, funco_2011_soma,funco_2012_soma,funco_2013_soma,funco_2014_soma,funco_2015_soma,funco_2016_soma,funco_2017_soma, funco_2018_soma]"
   ]
  },
  {
   "cell_type": "code",
   "execution_count": 121,
   "metadata": {},
   "outputs": [],
   "source": [
    "eleti = [eleti_2009_soma, eleti_2010_soma, eleti_2011_soma,eleti_2012_soma,eleti_2013_soma,eleti_2014_soma,eleti_2015_soma,eleti_2016_soma,eleti_2017_soma, eleti_2018_soma]"
   ]
  },
  {
   "cell_type": "code",
   "execution_count": 122,
   "metadata": {},
   "outputs": [],
   "source": [
    "pensio = [pensio_2009_total, pensio_2010_total, pensio_2011_total, pensio_2012_total, pensio_2013_total, pensio_2014_total, pensio_2015_total, pensio_2016_total, pensio_2017_total, pensio_2018_total]"
   ]
  },
  {
   "cell_type": "markdown",
   "metadata": {},
   "source": [
    "# ALGUNS GRÁFICOS"
   ]
  },
  {
   "cell_type": "code",
   "execution_count": 123,
   "metadata": {},
   "outputs": [
    {
     "data": {
      "image/png": "[encoded data removed]",
      "text/plain": [
       "<Figure size 1080x648 with 1 Axes>"
      ]
     },
     "metadata": {
      "needs_background": "light"
     },
     "output_type": "display_data"
    }
   ],
   "source": [
    "plt.figure(1, figsize=(15, 9))\n",
    "plt.plot (anos, efetivos, label='efetivo')\n",
    "plt.plot (anos, contra, label='CEIP')\n",
    "plt.plot (anos, comissionado, label='Cargos Comissionados')\n",
    "plt.plot (anos, adispo, label='Cargos a disposição')\n",
    "plt.plot (anos, funco, label='Cargos de confiança')\n",
    "plt.plot (anos, eleti, label='Cargos eletivos')\n",
    "plt.ylabel('bilhões')\n",
    "plt.title('despesas por tipos de contrato')\n",
    "plt.grid(True)\n",
    "plt.legend()\n",
    "plt.savefig('despesaporcontrato.png', transparent=True)\n",
    "plt.show()"
   ]
  },
  {
   "cell_type": "code",
   "execution_count": 124,
   "metadata": {},
   "outputs": [],
   "source": [
    "contribuicoes = ['Efetivo', 'Contribuições', 'Comissionado', 'À Disposição', 'Confiança', 'Eletivo']"
   ]
  },
  {
   "cell_type": "code",
   "execution_count": null,
   "metadata": {},
   "outputs": [
    {
     "data": {
      "text/plain": [
       "<function matplotlib.pyplot.show(*args, **kw)>"
      ]
     },
     "execution_count": 125,
     "metadata": {},
     "output_type": "execute_result"
    }
   ],
   "source": [
    "plt.figure(2, figsize=(25, 8))\n",
    "\n",
    "plt.subplot(231)\n",
    "plt.plot(anos, efetivos)\n",
    "plt.title('Efetivos')\n",
    "plt.grid(True)\n",
    "\n",
    "plt.subplot(232)\n",
    "plt.plot(anos, contra)\n",
    "plt.title('Contribuições')\n",
    "plt.grid(True)\n",
    "\n",
    "plt.subplot(233)\n",
    "plt.plot(anos, comissionado)\n",
    "plt.title('Cargos comissionados')\n",
    "plt.grid(True)\n",
    "\n",
    "plt.subplot(234)\n",
    "plt.plot(anos, adispo)\n",
    "plt.title('Cargos à disposição')\n",
    "plt.grid(True)\n",
    "\n",
    "plt.subplot(235)\n",
    "plt.plot(anos, funco)\n",
    "plt.title('Cargos de confiança')\n",
    "plt.grid(True)\n",
    "\n",
    "plt.subplot(236)\n",
    "plt.plot(anos, eleti)\n",
    "plt.title('Cargos eletivos')\n",
    "plt.grid(True)\n",
    "plt.savefig('quadrocontrato', transparent=True)\n",
    "plt.suptitle('Despesas por tipo de contrato')\n",
    "plt.show"
   ]
  },
  {
   "cell_type": "code",
   "execution_count": null,
   "metadata": {},
   "outputs": [],
   "source": [
    "plt.figure(1, figsize=(15, 9))\n",
    "plt.plot(anos, pensio)\n",
    "plt.title('Pensionistas e Inativos')\n",
    "plt.grid(True)\n",
    "plt.savefig('pensionista_valor.png', transparent=True)\n",
    "\n",
    "plt.show()"
   ]
  },
  {
   "cell_type": "code",
   "execution_count": null,
   "metadata": {},
   "outputs": [],
   "source": [
    "grafico = ano_2018_total['tipo_contratacao'].value_counts()"
   ]
  },
  {
   "cell_type": "code",
   "execution_count": null,
   "metadata": {},
   "outputs": [],
   "source": [
    "grafico"
   ]
  },
  {
   "cell_type": "code",
   "execution_count": null,
   "metadata": {},
   "outputs": [],
   "source": [
    "label = ['CEIP', 'Efetivo', 'I&P', 'Comissionado', 'disposição', ' eletivo', 'confiança']"
   ]
  },
  {
   "cell_type": "code",
   "execution_count": null,
   "metadata": {},
   "outputs": [],
   "source": [
    "plt.figure(1, figsize=(13, 13))\n",
    "plt.pie(grafico, autopct='%1.1f%%', labels=label)\n",
    "plt.title('Quantidade de funcionários por tipo de contrato - 2018')\n",
    "plt.grid(True)\n",
    "plt.savefig('pizza_funcionario.png', transparent=True)\n",
    "plt.show()"
   ]
  },
  {
   "cell_type": "code",
   "execution_count": null,
   "metadata": {},
   "outputs": [],
   "source": [
    "grafico_2 = ano_2017_total['tipo_contratacao'].value_counts()\n",
    "grafico_3 = ano_2016_total['tipo_contratacao'].value_counts()"
   ]
  },
  {
   "cell_type": "code",
   "execution_count": null,
   "metadata": {},
   "outputs": [],
   "source": [
    "cinco_mais =  ano_2018_total.nlargest(5, 'valor_total')"
   ]
  },
  {
   "cell_type": "code",
   "execution_count": null,
   "metadata": {},
   "outputs": [],
   "source": [
    "grafico_osmais_2 = cinco_mais['valor_total']"
   ]
  },
  {
   "cell_type": "code",
   "execution_count": null,
   "metadata": {},
   "outputs": [],
   "source": [
    "nomes = cinco_mais['nome']"
   ]
  },
  {
   "cell_type": "code",
   "execution_count": null,
   "metadata": {},
   "outputs": [],
   "source": [
    "plt.figure(1, figsize=(15, 8))\n",
    "plt.bar (nomes, grafico_osmais_2, width = 0.6)\n",
    "plt.xlabel('funcionários')\n",
    "plt.ylabel('milhares de R$')\n",
    "plt.title('Maiores salários em 2018')\n",
    "plt.savefig('maioressalarios.png', transparent=True)\n",
    "plt.show()"
   ]
  },
  {
   "cell_type": "code",
   "execution_count": null,
   "metadata": {},
   "outputs": [],
   "source": [
    "ano_2018_total['cargo'].value_counts()"
   ]
  },
  {
   "cell_type": "code",
   "execution_count": null,
   "metadata": {},
   "outputs": [],
   "source": [
    "professor_2009 = ano_2009_total.loc[ano_2009_total['cargo'] == 'PROFESSOR DA EDUCACAO BASICA I']\n",
    "professor_2010 = ano_2010_total.loc[ano_2010_total['cargo'] == 'PROFESSOR DA EDUCACAO BASICA I']\n",
    "professor_2011 = ano_2011_total.loc[ano_2011_total['cargo'] == 'PROFESSOR DA EDUCACAO BASICA I']\n",
    "professor_2012 = ano_2012_total.loc[ano_2012_total['cargo'] == 'PROFESSOR DA EDUCACAO BASICA I']\n",
    "professor_2013 = ano_2013_total.loc[ano_2013_total['cargo'] == 'PROFESSOR DA EDUCACAO BASICA I']\n",
    "professor_2014 = ano_2014_total.loc[ano_2014_total['cargo'] == 'PROFESSOR DA EDUCACAO BASICA I']\n",
    "professor_2015 = ano_2015_total.loc[ano_2015_total['cargo'] == 'PROFESSOR DA EDUCACAO BASICA I']\n",
    "professor_2016 = ano_2016_total.loc[ano_2016_total['cargo'] == 'PROFESSOR DA EDUCACAO BASICA I']\n",
    "professor_2017 = ano_2017_total.loc[ano_2017_total['cargo'] == 'PROFESSOR DA EDUCACAO BASICA I']\n",
    "professor_2018 = ano_2018_total.loc[ano_2018_total['cargo'] == 'PROFESSOR DA EDUCACAO BASICA I']"
   ]
  },
  {
   "cell_type": "code",
   "execution_count": null,
   "metadata": {},
   "outputs": [],
   "source": [
    "prof_mais = professor_2018.nlargest(5, 'valor_total')"
   ]
  },
  {
   "cell_type": "code",
   "execution_count": null,
   "metadata": {},
   "outputs": [],
   "source": [
    "professores = prof_mais['nome']"
   ]
  },
  {
   "cell_type": "code",
   "execution_count": null,
   "metadata": {},
   "outputs": [],
   "source": [
    "prof_mais_5 = prof_mais['valor_total']"
   ]
  },
  {
   "cell_type": "code",
   "execution_count": null,
   "metadata": {},
   "outputs": [],
   "source": [
    "plt.figure(1, figsize=(15, 9))\n",
    "plt.bar (professores, prof_mais_5, width = 0.6)\n",
    "plt.xlabel('professores')\n",
    "plt.ylabel('milhares de R$')\n",
    "plt.title('5 maiores salários para professores da educação básica em 2018')\n",
    "plt.savefig('maiorsalarioprofesso.png', transparent=True)\n",
    "plt.show()"
   ]
  },
  {
   "cell_type": "code",
   "execution_count": null,
   "metadata": {},
   "outputs": [],
   "source": [
    "prof_mais.head()"
   ]
  },
  {
   "cell_type": "code",
   "execution_count": null,
   "metadata": {},
   "outputs": [],
   "source": [
    "prof_maior = ano_2018_total.loc[ano_2018_total['nome'] == 'MARCELA BANDEIRA DE MELLO ALMEIDA'] #maior salario para professor basico 1"
   ]
  },
  {
   "cell_type": "code",
   "execution_count": null,
   "metadata": {},
   "outputs": [],
   "source": [
    "prof_maior.head()"
   ]
  },
  {
   "cell_type": "code",
   "execution_count": null,
   "metadata": {},
   "outputs": [],
   "source": [
    "prof_maior.describe() # estatísticas do maior salário de professor em 2018"
   ]
  },
  {
   "cell_type": "code",
   "execution_count": null,
   "metadata": {},
   "outputs": [],
   "source": [
    "professor_2018.describe()"
   ]
  },
  {
   "cell_type": "code",
   "execution_count": null,
   "metadata": {},
   "outputs": [],
   "source": [
    "soma_2009pro = professor_2009['valor_total'].sum()\n",
    "soma_2010pro = professor_2010['valor_total'].sum()\n",
    "soma_2011pro = professor_2011['valor_total'].sum()\n",
    "soma_2012pro = professor_2012['valor_total'].sum()\n",
    "soma_2013pro = professor_2013['valor_total'].sum()\n",
    "soma_2014pro = professor_2014['valor_total'].sum()\n",
    "soma_2015pro = professor_2015['valor_total'].sum()\n",
    "soma_2016pro = professor_2016['valor_total'].sum()\n",
    "soma_2017pro = professor_2017['valor_total'].sum()\n",
    "soma_2018pro = professor_2018['valor_total'].sum()"
   ]
  },
  {
   "cell_type": "code",
   "execution_count": null,
   "metadata": {},
   "outputs": [],
   "source": [
    "grafico_prof = [soma_2009pro, soma_2010pro, soma_2011pro, soma_2012pro, soma_2013pro, soma_2014pro, soma_2015pro, soma_2016pro, soma_2017pro, soma_2018pro]"
   ]
  },
  {
   "cell_type": "code",
   "execution_count": null,
   "metadata": {},
   "outputs": [],
   "source": [
    "plt.figure(1, figsize=(15, 9))\n",
    "plt.plot (anos, grafico_prof, label='professores')\n",
    "plt.title('Despesa com professores da educação básica I')\n",
    "plt.grid(True)\n",
    "plt.legend()\n",
    "plt.savefig('despesaprofessor1.png', transparent=True)\n",
    "plt.show()"
   ]
  },
  {
   "cell_type": "code",
   "execution_count": null,
   "metadata": {},
   "outputs": [],
   "source": [
    "professor_2009basic2= ano_2009_total.loc[ano_2009_total['cargo'] == 'PROFESSOR DA EDUCACAO BASICA II']\n",
    "professor_2010basic2 = ano_2010_total.loc[ano_2010_total['cargo'] == 'PROFESSOR DA EDUCACAO BASICA II']\n",
    "professor_2011basic2 = ano_2011_total.loc[ano_2011_total['cargo'] == 'PROFESSOR DA EDUCACAO BASICA II']\n",
    "professor_2012basic2 = ano_2012_total.loc[ano_2012_total['cargo'] == 'PROFESSOR DA EDUCACAO BASICA II']\n",
    "professor_2013basic2 = ano_2013_total.loc[ano_2013_total['cargo'] == 'PROFESSOR DA EDUCACAO BASICA II']\n",
    "professor_2014basic2 = ano_2014_total.loc[ano_2014_total['cargo'] == 'PROFESSOR DA EDUCACAO BASICA II']\n",
    "professor_2015basic2 = ano_2015_total.loc[ano_2015_total['cargo'] == 'PROFESSOR DA EDUCACAO BASICA II']\n",
    "professor_2016basic2 = ano_2016_total.loc[ano_2016_total['cargo'] == 'PROFESSOR DA EDUCACAO BASICA II']\n",
    "professor_2017basic2 = ano_2017_total.loc[ano_2017_total['cargo'] == 'PROFESSOR DA EDUCACAO BASICA II']\n",
    "professor_2018basic2 = ano_2018_total.loc[ano_2018_total['cargo'] == 'PROFESSOR DA EDUCACAO BASICA II']"
   ]
  },
  {
   "cell_type": "code",
   "execution_count": null,
   "metadata": {},
   "outputs": [],
   "source": [
    "soma_2009prof2 = professor_2009basic2['valor_total'].sum()\n",
    "soma_2010prof2 = professor_2010basic2['valor_total'].sum()\n",
    "soma_2011prof2 = professor_2011basic2['valor_total'].sum()\n",
    "soma_2012prof2 = professor_2012basic2['valor_total'].sum()\n",
    "soma_2013prof2 = professor_2013basic2['valor_total'].sum()\n",
    "soma_2014prof2 = professor_2014basic2['valor_total'].sum()\n",
    "soma_2015prof2 = professor_2015basic2['valor_total'].sum()\n",
    "soma_2016prof2 = professor_2016basic2['valor_total'].sum()\n",
    "soma_2017prof2 = professor_2017basic2['valor_total'].sum()\n",
    "soma_2018prof2 = professor_2018basic2['valor_total'].sum()"
   ]
  },
  {
   "cell_type": "code",
   "execution_count": null,
   "metadata": {},
   "outputs": [],
   "source": [
    "professor_basic_2 = [soma_2009prof2, soma_2010prof2, soma_2011prof2, soma_2012prof2, soma_2013prof2, soma_2014prof2, soma_2015prof2, soma_2016prof2, soma_2017prof2, soma_2018prof2]"
   ]
  },
  {
   "cell_type": "code",
   "execution_count": null,
   "metadata": {},
   "outputs": [],
   "source": [
    "plt.figure(1, figsize=(15, 9))\n",
    "plt.plot (anos, professor_basic_2, label='professores')\n",
    "plt.title('Despesa com professores da educação básica II')\n",
    "plt.grid(True)\n",
    "plt.legend()\n",
    "plt.savefig('despesaprofessor2.png', transparent=True)\n",
    "plt.show()"
   ]
  },
  {
   "cell_type": "code",
   "execution_count": null,
   "metadata": {},
   "outputs": [],
   "source": [
    "plt.figure(1, figsize=(15, 9))\n",
    "plt.plot (anos, grafico_prof, label='Básico I')\n",
    "plt.plot (anos, professor_basic_2, label='Básico II')\n",
    "plt.title('Despesa com professores da educação básica I e II')\n",
    "plt.grid(True)\n",
    "plt.legend()\n",
    "plt.savefig('professor1e2.png', transparent=True)\n",
    "plt.show()"
   ]
  },
  {
   "cell_type": "code",
   "execution_count": null,
   "metadata": {},
   "outputs": [],
   "source": [
    "professor_2018basic2.nlargest(5, 'valor_total')"
   ]
  },
  {
   "cell_type": "code",
   "execution_count": null,
   "metadata": {},
   "outputs": [],
   "source": [
    "maior_salario = ano_2018_total.loc[ano_2018_total['nome'] == 'MARIA DO SOCORRO O DE S SILVA'] # maior salário de professor básico II em 2018"
   ]
  },
  {
   "cell_type": "code",
   "execution_count": null,
   "metadata": {},
   "outputs": [],
   "source": [
    "maior_salario.describe()"
   ]
  },
  {
   "cell_type": "code",
   "execution_count": null,
   "metadata": {},
   "outputs": [],
   "source": [
    "professor_2018basic2.describe()"
   ]
  },
  {
   "cell_type": "code",
   "execution_count": null,
   "metadata": {},
   "outputs": [],
   "source": [
    "professor_2017basic2.describe()"
   ]
  },
  {
   "cell_type": "code",
   "execution_count": null,
   "metadata": {},
   "outputs": [],
   "source": [
    "professor_2016basic2.describe()"
   ]
  },
  {
   "cell_type": "code",
   "execution_count": null,
   "metadata": {},
   "outputs": [],
   "source": [
    "total_fun_2009 = ano_2009_total['valor_total'].sum()\n",
    "total_fun_2010 = ano_2010_total['valor_total'].sum()\n",
    "total_fun_2011 = ano_2011_total['valor_total'].sum()\n",
    "total_fun_2012 = ano_2012_total['valor_total'].sum()\n",
    "total_fun_2013 = ano_2013_total['valor_total'].sum()\n",
    "total_fun_2014 = ano_2014_total['valor_total'].sum()\n",
    "total_fun_2015 = ano_2015_total['valor_total'].sum()\n",
    "total_fun_2016 = ano_2016_total['valor_total'].sum()\n",
    "total_fun_2017 = ano_2017_total['valor_total'].sum()\n",
    "total_fun_2018 = ano_2018_total['valor_total'].sum()"
   ]
  },
  {
   "cell_type": "code",
   "execution_count": null,
   "metadata": {},
   "outputs": [],
   "source": [
    "funcionario = [total_fun_2009, total_fun_2010, total_fun_2011, total_fun_2012, total_fun_2013, total_fun_2014, total_fun_2015, total_fun_2016, total_fun_2017, total_fun_2018]"
   ]
  },
  {
   "cell_type": "code",
   "execution_count": null,
   "metadata": {},
   "outputs": [],
   "source": [
    "plt.figure(1, figsize=(15, 9))\n",
    "plt.plot (anos, funcionario)\n",
    "plt.ylabel('bilhões')\n",
    "plt.title('Despesa com funcionários')\n",
    "plt.grid(True)\n",
    "plt.savefig('funcionario_valor.png', transparent=True)\n",
    "plt.show()"
   ]
  },
  {
   "cell_type": "code",
   "execution_count": null,
   "metadata": {},
   "outputs": [],
   "source": [
    "plt.figure(1, figsize=(15, 9))\n",
    "plt.bar (anos, grafico_despesa, label='Despesas')\n",
    "plt.bar (anos, funcionario, label='Despesas com funcionários')\n",
    "plt.ylabel('bilhões')\n",
    "plt.title('Despesas gerais da prefeitura')\n",
    "plt.grid(True)\n",
    "plt.legend()\n",
    "plt.savefig('despesafuncionario.png', transparent=True)\n",
    "plt.show()"
   ]
  },
  {
   "cell_type": "code",
   "execution_count": null,
   "metadata": {},
   "outputs": [],
   "source": [
    "ano_2009_total['conta'] = 1\n",
    "ano_2010_total['conta'] = 1\n",
    "ano_2011_total['conta'] = 1\n",
    "ano_2012_total['conta'] = 1\n",
    "ano_2013_total['conta'] = 1\n",
    "ano_2014_total['conta'] = 1\n",
    "ano_2015_total['conta'] = 1\n",
    "ano_2016_total['conta'] = 1\n",
    "ano_2017_total['conta'] = 1\n",
    "ano_2018_total['conta'] = 1"
   ]
  },
  {
   "cell_type": "code",
   "execution_count": null,
   "metadata": {},
   "outputs": [],
   "source": [
    "soma_2009fun = ano_2009_total['conta'].sum()\n",
    "soma_2010fun = ano_2010_total['conta'].sum()\n",
    "soma_2011fun = ano_2011_total['conta'].sum()\n",
    "soma_2012fun = ano_2012_total['conta'].sum()\n",
    "soma_2013fun = ano_2013_total['conta'].sum()\n",
    "soma_2014fun = ano_2014_total['conta'].sum()\n",
    "soma_2015fun = ano_2015_total['conta'].sum()\n",
    "soma_2016fun = ano_2016_total['conta'].sum()\n",
    "soma_2017fun = ano_2017_total['conta'].sum()\n",
    "soma_2018fun = ano_2018_total['conta'].sum()"
   ]
  },
  {
   "cell_type": "code",
   "execution_count": null,
   "metadata": {},
   "outputs": [],
   "source": [
    "grafico_fun = [soma_2009fun, soma_2010fun, soma_2011fun, soma_2012fun, soma_2013fun, soma_2014fun, soma_2015fun, soma_2016fun, soma_2017fun, soma_2018fun]"
   ]
  },
  {
   "cell_type": "code",
   "execution_count": null,
   "metadata": {},
   "outputs": [],
   "source": [
    "plt.figure(1, figsize=(15, 9))\n",
    "plt.plot (anos, grafico_fun, label='funcionários')\n",
    "plt.title('quantidade de funcionários')\n",
    "plt.grid(True)\n",
    "plt.legend()\n",
    "plt.savefig('quantidadefuncionarios.png', transparent=True)\n",
    "plt.show()"
   ]
  },
  {
   "cell_type": "code",
   "execution_count": null,
   "metadata": {},
   "outputs": [],
   "source": [
    "grafico_prof2 = [soma_2009prof2, soma_2010prof2, soma_2011prof2, soma_2012prof2, soma_2013prof2, soma_2014prof2, soma_2015prof2, soma_2016prof2, soma_2017prof2, soma_2018prof2]"
   ]
  },
  {
   "cell_type": "code",
   "execution_count": null,
   "metadata": {},
   "outputs": [],
   "source": [
    "efetivo_2009_total = efetivo_2009['conta'].sum()\n",
    "efetivo_2010_total = efetivo_2010['conta'].sum()\n",
    "efetivo_2011_total = efetivo_2011['conta'].sum()\n",
    "efetivo_2012_total = efetivo_2012['conta'].sum()\n",
    "efetivo_2013_total = efetivo_2013['conta'].sum()\n",
    "efetivo_2014_total = efetivo_2014['conta'].sum()\n",
    "efetivo_2015_total= efetivo_2015['conta'].sum()\n",
    "efetivo_2016_total = efetivo_2016['conta'].sum()\n",
    "efetivo_2017_total = efetivo_2017['conta'].sum()\n",
    "efetivo_2018_total = efetivo_2018['conta'].sum()"
   ]
  },
  {
   "cell_type": "code",
   "execution_count": null,
   "metadata": {},
   "outputs": [],
   "source": [
    "contra_2009_total = efetivo_2009_contra['conta'].sum()\n",
    "contra_2010_total = efetivo_2010_contra['conta'].sum()\n",
    "contra_2011_total = efetivo_2011_contra['conta'].sum()\n",
    "contra_2012_total = efetivo_2012_contra['conta'].sum()\n",
    "contra_2013_total = efetivo_2013_contra['conta'].sum()\n",
    "contra_2014_total = efetivo_2014_contra['conta'].sum()\n",
    "contra_2015_total = efetivo_2015_contra['conta'].sum()\n",
    "contra_2016_total = efetivo_2016_contra['conta'].sum()\n",
    "contra_2017_total = efetivo_2017_contra['conta'].sum()\n",
    "contra_2018_total = efetivo_2018_contra['conta'].sum()\n"
   ]
  },
  {
   "cell_type": "code",
   "execution_count": null,
   "metadata": {},
   "outputs": [],
   "source": [
    "commi_2009_total = efetivo_2009_commi['conta'].sum()\n",
    "commi_2010_total = efetivo_2010_commi['conta'].sum()\n",
    "commi_2011_total = efetivo_2011_commi['conta'].sum()\n",
    "commi_2012_total = efetivo_2012_commi['conta'].sum()\n",
    "commi_2013_total = efetivo_2013_commi['conta'].sum()\n",
    "commi_2014_total = efetivo_2014_commi['conta'].sum()\n",
    "commi_2015_total = efetivo_2015_commi['conta'].sum()\n",
    "commi_2016_total = efetivo_2016_commi['conta'].sum()\n",
    "commi_2017_total = efetivo_2017_commi['conta'].sum()\n",
    "commi_2018_total = efetivo_2018_commi['conta'].sum()\n"
   ]
  },
  {
   "cell_type": "code",
   "execution_count": null,
   "metadata": {},
   "outputs": [],
   "source": [
    "adispo_2009_total = efetivo_2009_adispo['conta'].sum()\n",
    "adispo_2010_total = efetivo_2010_adispo['conta'].sum()\n",
    "adispo_2011_total = efetivo_2011_adispo['conta'].sum()\n",
    "adispo_2012_total = efetivo_2012_adispo['conta'].sum()\n",
    "adispo_2013_total = efetivo_2013_adispo['conta'].sum()\n",
    "adispo_2014_total = efetivo_2014_adispo['conta'].sum()\n",
    "adispo_2015_total = efetivo_2015_adispo['conta'].sum()\n",
    "adispo_2016_total = efetivo_2016_adispo['conta'].sum()\n",
    "adispo_2017_total = efetivo_2017_adispo['conta'].sum()\n",
    "adispo_2018_total = efetivo_2018_adispo['conta'].sum()\n"
   ]
  },
  {
   "cell_type": "code",
   "execution_count": null,
   "metadata": {},
   "outputs": [],
   "source": [
    "funco_2009_total = efetivo_2009_funco['conta'].sum()\n",
    "funco_2010_total = efetivo_2010_funco['conta'].sum()\n",
    "funco_2011_total = efetivo_2011_funco['conta'].sum()\n",
    "funco_2012_total = efetivo_2012_funco['conta'].sum()\n",
    "funco_2013_total = efetivo_2013_funco['conta'].sum()\n",
    "funco_2014_total = efetivo_2014_funco['conta'].sum()\n",
    "funco_2015_total = efetivo_2015_funco['conta'].sum()\n",
    "funco_2016_total = efetivo_2016_funco['conta'].sum()\n",
    "funco_2017_total = efetivo_2017_funco['conta'].sum()\n",
    "funco_2018_total = efetivo_2018_funco['conta'].sum()\n"
   ]
  },
  {
   "cell_type": "code",
   "execution_count": null,
   "metadata": {},
   "outputs": [],
   "source": [
    "eleti_2009_total = efetivo_2009_eleti['conta'].sum()\n",
    "eleti_2010_total = efetivo_2010_eleti['conta'].sum()\n",
    "eleti_2011_total = efetivo_2011_eleti['conta'].sum()\n",
    "eleti_2012_total = efetivo_2012_eleti['conta'].sum()\n",
    "eleti_2013_total = efetivo_2013_eleti['conta'].sum()\n",
    "eleti_2014_total = efetivo_2014_eleti['conta'].sum()\n",
    "eleti_2015_total = efetivo_2015_eleti['conta'].sum()\n",
    "eleti_2016_total = efetivo_2016_eleti['conta'].sum()\n",
    "eleti_2017_total = efetivo_2017_eleti['conta'].sum()\n",
    "eleti_2018_total = efetivo_2018_eleti['conta'].sum()\n"
   ]
  },
  {
   "cell_type": "code",
   "execution_count": null,
   "metadata": {},
   "outputs": [],
   "source": [
    "pen_2009 = pensio_2009['conta'].sum()\n",
    "pen_2010 = pensio_2010['conta'].sum()\n",
    "pen_2011 = pensio_2011['conta'].sum()\n",
    "pen_2012 = pensio_2012['conta'].sum()\n",
    "pen_2013 = pensio_2013['conta'].sum()\n",
    "pen_2014 = pensio_2014['conta'].sum()\n",
    "pen_2015 = pensio_2015['conta'].sum()\n",
    "pen_2016 = pensio_2016['conta'].sum()\n",
    "pen_2017 = pensio_2017['conta'].sum()\n",
    "pen_2018 = pensio_2018['conta'].sum()"
   ]
  },
  {
   "cell_type": "code",
   "execution_count": null,
   "metadata": {},
   "outputs": [],
   "source": [
    "efeti = [efetivo_2009_total, efetivo_2010_total, efetivo_2011_total, efetivo_2012_total, efetivo_2013_total, efetivo_2014_total, efetivo_2015_total, efetivo_2016_total, efetivo_2017_total, efetivo_2018_total]\n",
    "contri = [contra_2009_total, contra_2010_total, contra_2011_total, contra_2012_total, contra_2013_total, contra_2014_total, contra_2015_total, contra_2016_total, contra_2017_total, contra_2018_total]\n",
    "commi = [commi_2009_total, commi_2010_total, commi_2011_total, commi_2012_total, commi_2013_total, commi_2014_total, commi_2015_total, commi_2016_total, commi_2017_total, commi_2018_total]\n",
    "adispor = [adispo_2009_total, adispo_2010_total, adispo_2011_total, adispo_2012_total, adispo_2013_total, adispo_2014_total, adispo_2015_total, adispo_2016_total, adispo_2017_total, adispo_2018_total]\n",
    "confi = [funco_2009_total, funco_2010_total, funco_2011_total, funco_2012_total, funco_2013_total, funco_2014_total, funco_2015_total, funco_2016_total, funco_2017_total, funco_2018_total]\n",
    "eletivo= [eleti_2009_total, eleti_2010_total, eleti_2011_total, eleti_2012_total, eleti_2013_total, eleti_2014_total, eleti_2015_total, eleti_2016_total, eleti_2017_total, eleti_2018_total]"
   ]
  },
  {
   "cell_type": "code",
   "execution_count": null,
   "metadata": {},
   "outputs": [],
   "source": [
    "pensionistas = [pen_2009, pen_2010, pen_2011, pen_2012, pen_2013, pen_2014, pen_2015, pen_2016, pen_2017, pen_2018]"
   ]
  },
  {
   "cell_type": "code",
   "execution_count": null,
   "metadata": {},
   "outputs": [],
   "source": [
    "plt.figure(1, figsize=(15, 9))\n",
    "plt.bar (anos, efeti, label='efetivos')\n",
    "plt.bar (anos, contri, label='CEIP')\n",
    "plt.bar (anos, commi, label='comissionado')\n",
    "plt.bar (anos, adispor, label='à disposição')\n",
    "plt.bar (anos, confi, label='COnfiança')\n",
    "plt.bar (anos, eletivo, label='Eletivo')\n",
    "plt.bar (anos, pensionistas, label='Pensionistas')\n",
    "plt.ylabel('milhares')\n",
    "plt.title('total de funcionarios por tipo de contrato')\n",
    "plt.grid(True)\n",
    "plt.legend()\n",
    "plt.savefig('barratotalfuncionario.png', transparent=True)\n",
    "plt.show()"
   ]
  },
  {
   "cell_type": "code",
   "execution_count": null,
   "metadata": {},
   "outputs": [],
   "source": [
    "plt.figure(1, figsize=(17, 10))\n",
    "\n",
    "plt.subplot(231)\n",
    "plt.plot(anos, efeti)\n",
    "plt.title('efetivos')\n",
    "\n",
    "\n",
    "plt.subplot(232)\n",
    "plt.plot(anos, contri)\n",
    "plt.title('CEIP')\n",
    "\n",
    "\n",
    "plt.subplot(233)\n",
    "plt.plot(anos, commi)\n",
    "plt.title('comissionados')\n",
    "\n",
    "\n",
    "plt.subplot(234)\n",
    "plt.plot(anos, adispor)\n",
    "plt.title('à disposição')\n",
    "\n",
    "\n",
    "plt.subplot(235)\n",
    "plt.plot(anos, confi)\n",
    "plt.title('Cargos de confiança')\n",
    "\n",
    "\n",
    "plt.subplot(236)\n",
    "plt.plot(anos, eletivo)\n",
    "plt.title('Eletivos')\n",
    "plt.savefig('quadrotiposcontrato.png', transparent=True)\n",
    "\n",
    "plt.suptitle('Quantidade de funcionários públicos por tipo de contrato')"
   ]
  },
  {
   "cell_type": "code",
   "execution_count": null,
   "metadata": {},
   "outputs": [],
   "source": [
    "ind = ['CEIP', 'Efetivo', 'I&P', 'Comissionado', 'disposição', ' eletivo', 'confiança']\n",
    "plt.figure(1, figsize=(15, 9))\n",
    "\n",
    "plt.subplot(231)\n",
    "plt.bar(ind, grafico)\n",
    "plt.title('2018')\n",
    "plt.grid(True)\n",
    "\n",
    "plt.subplot(232)\n",
    "plt.bar(ind, grafico_2)\n",
    "plt.title('2017')\n",
    "plt.grid(True)\n",
    "\n",
    "plt.subplot(233)\n",
    "plt.bar(ind, grafico_3)\n",
    "plt.title('2016')\n",
    "plt.grid(True)\n",
    "\n",
    "plt.subplot(234)\n",
    "plt.pie(grafico, autopct='%1.1f%%')\n",
    "\n",
    "\n",
    "plt.subplot(235)\n",
    "plt.pie(grafico_2, autopct='%1.1f%%')\n",
    "\n",
    "\n",
    "plt.subplot(236)\n",
    "plt.pie(grafico_3, autopct='%1.1f%%')\n",
    "plt.savefig('quadrotiposcontrato2.png', transparent=True)\n",
    "\n",
    "plt.suptitle('Quantidade de funcionários públicos por tipo de contrato')"
   ]
  },
  {
   "cell_type": "code",
   "execution_count": null,
   "metadata": {},
   "outputs": [],
   "source": [
    "funcionario"
   ]
  },
  {
   "cell_type": "code",
   "execution_count": null,
   "metadata": {},
   "outputs": [],
   "source": []
  }
 ],
 "metadata": {
  "kernelspec": {
   "display_name": "Python 3",
   "language": "python",
   "name": "python3"
  },
  "language_info": {
   "codemirror_mode": {
    "name": "ipython",
    "version": 3
   },
   "file_extension": ".py",
   "mimetype": "text/x-python",
   "name": "python",
   "nbconvert_exporter": "python",
   "pygments_lexer": "ipython3",
   "version": "3.7.0"
  }
 },
 "nbformat": 4,
 "nbformat_minor": 2
}
